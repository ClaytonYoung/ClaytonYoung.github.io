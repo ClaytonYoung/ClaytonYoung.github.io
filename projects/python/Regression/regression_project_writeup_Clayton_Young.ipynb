{
 "cells": [
  {
   "cell_type": "markdown",
   "metadata": {},
   "source": [
    "# Predicting non-penalty goals scored in the Premier League"
   ]
  },
  {
   "cell_type": "markdown",
   "metadata": {},
   "source": [
    "Clayton Young"
   ]
  },
  {
   "cell_type": "markdown",
   "metadata": {},
   "source": [
    "## Abstract"
   ]
  },
  {
   "cell_type": "markdown",
   "metadata": {},
   "source": [
    "Utilizing the FBref website data, I landed on the idea of predicting the number of goals a player scores in a single Premier League season. Beyond individual player stats, I thought it'd also be interesting to scrape country GDP as a predictor since the PL is known for attracting players from across the world. Ultimately, I was left with only a handful of predictors that, when transformed, allowed the model to outcompete others with more variables."
   ]
  },
  {
   "cell_type": "markdown",
   "metadata": {},
   "source": [
    "## Design"
   ]
  },
  {
   "cell_type": "markdown",
   "metadata": {},
   "source": [
    "My metric of interest is the number of non-penalty goals scored in a PL season. I decided upon non-penalty goals since it's a better representation of player skill and ability. I considered which variables available would accurately predict the number of goals a player scores in a season to target this metric. Aiming not to use predictor variables that had this answer within itself (e.g., conversion rate). I sought to use proxies for underlying characteristics (e.g., red cards for aggression). Additionally, I used player country data to see differences in player performance, as measured by the number of non-penalty goals scored, by country/region.\n",
    "\n",
    "\n"
   ]
  },
  {
   "cell_type": "markdown",
   "metadata": {},
   "source": [
    "## Data"
   ]
  },
  {
   "cell_type": "markdown",
   "metadata": {},
   "source": [
    "First, I scraped all PL league data from the inception of the league to the present. However, as my project question shifted, I began scraping player data for each season. This included four pages of data per season (1992-present), and in total, ~65 columns of data per player, per season, located inside a dictionary with a key representing the year. Filtering included selecting data from the 2017-2018 season to 2021. This was due to missing data from the previous seasons. Pulling from Wikipedia and YourDicitonary, I matched country abbreviations in FBRef to each player's data, and after matching country, I scraped GDP data and matched it to each player. \n",
    "\n",
    "Although I was interested in county/continent and GDP and created an interaction variable, this proved detrimental to the model and was therefore dropped. Ultimately, I only kept 2091 rows and six columns for my entire dataset. The features kept were shots, position, team (also collapsed), and the interaction variable for positionXshots. \n",
    "\n",
    "## Sources:\n",
    "- [FBRef](https://fbref.com/en/)\n",
    "- [YourDictionary](https://www.yourdictionary.com)\n",
    "- [Wikipedia](https://en.wikipedia.org/wiki/Wikipedia)\n",
    "\n"
   ]
  },
  {
   "cell_type": "markdown",
   "metadata": {},
   "source": [
    "## Algorithms "
   ]
  },
  {
   "cell_type": "markdown",
   "metadata": {},
   "source": [
    "- Web scraping links using Selenium from FBRef and saving links to list for further webscraping of dataframes\n",
    "- Saving scraped dataframes to dictionary and appending to master dataframe\n",
    "- Collapsing country, position, team data \n",
    "- Feature engineering collapsed continent data to continentXGDP \n",
    "- Feature engineering shotXposition data using engineered position data\n",
    "- Engineering dummy variabels for linear regression using Pandas\n",
    "- Transforming predictor and dependent variables using BoxCox transformation using sklearn\n",
    "- Plotting interaction terms to verify different slopes using Seaborn\n",
    "- Pairplotting using Seaborn to understand distrubutions of variables of interest\n",
    "- linear modeling using statsmodels\n",
    "- calculating cook's d to check influence of outliers (statsmodels)\n",
    "- calculating VIF for independent variable correlations (statsmodels)\n",
    "- cross validation(KFold) of basic linear, ridge, lasso, elastic net models\n",
    "- averaging CV scores\n",
    "- transforming to polynomial features \n",
    "- plotting LARS path for lasso model\n",
    "- scaling data for regularization\n",
    "- calculating MSE and MAE \n",
    "- plotting residuals, QQ plot"
   ]
  },
  {
   "cell_type": "markdown",
   "metadata": {},
   "source": [
    "#### Findings"
   ]
  },
  {
   "cell_type": "markdown",
   "metadata": {},
   "source": [
    "- linear model with polynomial features outpeforms others\n",
    "       - R^2: 0.788\n",
    "       - MSE: 2.020\n",
    "       - MAE: 0.871\n",
    "       \n",
    "- linear model not suited for this type of count-like (integer) data\n",
    "- continent is not a good predictor of number of goals scored\n",
    "- GDP is not a good predictor or number of goals scored\n",
    "\n"
   ]
  },
  {
   "cell_type": "markdown",
   "metadata": {},
   "source": [
    "## Tools"
   ]
  },
  {
   "cell_type": "markdown",
   "metadata": {},
   "source": [
    "- Selenium for web scraping\n",
    "- request for static web scraping (opted for Selenium after)\n",
    "- BeautfulSoup for formatting scraped data\n",
    "- Pandas for data transformation\n",
    "- pickle for storing data\n",
    "- numpy for transformation (log didn't work too well for this data)\n",
    "- matplotlib for plotting\n",
    "- scipy stats for tranformation\n",
    "- sklearn for modeling \n",
    "- seaborn for plotting \n"
   ]
  },
  {
   "cell_type": "markdown",
   "metadata": {},
   "source": [
    "## Communication"
   ]
  },
  {
   "cell_type": "markdown",
   "metadata": {},
   "source": [
    "Slides, notebook, and schedule will be available on [GitHub](https://github.com/ClaytonYoung/ClaytonYoung.github.io/tree/master/assets/Metis/) and will be posted to my [blog](https://claytonyoung.github.io). "
   ]
  },
  {
   "cell_type": "code",
   "execution_count": null,
   "metadata": {},
   "outputs": [],
   "source": []
  }
 ],
 "metadata": {
  "kernelspec": {
   "display_name": "Python 3",
   "language": "python",
   "name": "python3"
  },
  "language_info": {
   "codemirror_mode": {
    "name": "ipython",
    "version": 3
   },
   "file_extension": ".py",
   "mimetype": "text/x-python",
   "name": "python",
   "nbconvert_exporter": "python",
   "pygments_lexer": "ipython3",
   "version": "3.8.8"
  }
 },
 "nbformat": 4,
 "nbformat_minor": 4
}
