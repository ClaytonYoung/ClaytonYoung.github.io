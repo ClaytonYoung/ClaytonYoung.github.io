{
 "cells": [
  {
   "cell_type": "markdown",
   "metadata": {},
   "source": [
    "# Classification Project Proposal \n",
    "### Clayton Young\n",
    "\n",
    "## Question/Need:\n",
    "\n",
    "### What is the question behind your analysis?\n",
    "- How do we accurately diagnose dementia syndromes?\n",
    "\n",
    "### What is the purpose of the model/system you plan to build?\n",
    "- I plan to build a model that takes in recorded measures (neuropsych testing, demographic, etc.) to classify an individual's dementia syndrome. This will allow healthcare providers to use the model to assist in diagnosis. \n",
    "\n",
    "### Who benefits from exploring this question or building this model/system?\n",
    "- Neuropsychologists and neurologists will benefit from using by spending less time diagnosing individuals, and patients will benefit from providers using this model by receiving an accurate diagnosis. The model also has potential to identify measures that are most important in predicting a diagnosis, streamlining the process used for diagnosis. \n",
    "\n",
    "## Data Description:\n",
    "\n",
    "### What dataset(s) do you plan to use, and how will you obtain the data?\n",
    "- I will use data downloaded to my local machine that includes relevant health information for diagnosis.\n",
    "\n",
    "### What is an individual sample/unit of analysis in this project? What characteristics/features do you expect to work with?\n",
    "- Patient participant data will be used as individual units of analysis. I will use neuropysch and demographic data for this model. \n",
    "\n",
    "### If modeling, what will you predict as your target?\n",
    "- My target will be dementia syndrom diagnosis. **I do have a question here!** I'll be one-hot encoding dx, and I'm not entirely clear how to feed that into my model... I'll do some digging but would appreciate being pointed in the right direction!\n",
    "\n",
    "## Tools:\n",
    "\n",
    "### How do you intend to meet the tools requirement of the project?\n",
    "- I'll use python to build multiple classification models, selecting the model that outperforms the rest. I'll also do some feature engineering as needed. \n",
    "\n",
    "### Are you planning in advance to need or use additional tools beyond those required?\n",
    "- TBD as needed\n",
    "\n",
    "## MVP Goal:\n",
    "\n",
    "### What would a minimum viable product (MVP) look like for this project?\n",
    "- A MVP for this project will be building **any** classification model. I'll have to a bit of cleaning and formatting the data... Think I'll be using ~10k units but that may change depending on cleaning and formatting. "
   ]
  },
  {
   "cell_type": "code",
   "execution_count": null,
   "metadata": {},
   "outputs": [],
   "source": []
  }
 ],
 "metadata": {
  "kernelspec": {
   "display_name": "Python 3",
   "language": "python",
   "name": "python3"
  },
  "language_info": {
   "codemirror_mode": {
    "name": "ipython",
    "version": 3
   },
   "file_extension": ".py",
   "mimetype": "text/x-python",
   "name": "python",
   "nbconvert_exporter": "python",
   "pygments_lexer": "ipython3",
   "version": "3.7.4"
  }
 },
 "nbformat": 4,
 "nbformat_minor": 4
}
