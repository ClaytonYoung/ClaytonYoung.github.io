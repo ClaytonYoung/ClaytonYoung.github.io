{
 "cells": [
  {
   "cell_type": "code",
   "execution_count": null,
   "id": "73a06a18",
   "metadata": {},
   "outputs": [
    {
     "name": "stdout",
     "output_type": "stream",
     "text": [
      "btc {'neg': 0.067, 'neu': 0.806, 'pos': 0.127, 'compound': 1.0}\n",
      "eth {'neg': 0.058, 'neu': 0.81, 'pos': 0.132, 'compound': 1.0}\n",
      "usdt {'neg': 0.082, 'neu': 0.802, 'pos': 0.116, 'compound': 1.0}\n",
      "sol {'neg': 0.07, 'neu': 0.801, 'pos': 0.129, 'compound': 1.0}\n",
      "ada {'neg': 0.066, 'neu': 0.799, 'pos': 0.134, 'compound': 1.0}\n",
      "dot {'neg': 0.051, 'neu': 0.81, 'pos': 0.139, 'compound': 1.0}\n",
      "doge {'neg': 0.07, 'neu': 0.798, 'pos': 0.132, 'compound': 1.0}\n",
      "shib {'neg': 0.071, 'neu': 0.802, 'pos': 0.127, 'compound': 1.0}\n",
      "cro {'neg': 0.049, 'neu': 0.808, 'pos': 0.143, 'compound': 1.0}\n",
      "matic {'neg': 0.046, 'neu': 0.813, 'pos': 0.141, 'compound': 1.0}\n",
      "algo {'neg': 0.051, 'neu': 0.797, 'pos': 0.152, 'compound': 1.0}\n",
      "link {'neg': 0.061, 'neu': 0.816, 'pos': 0.123, 'compound': 1.0}\n",
      "xlm {'neg': 0.053, 'neu': 0.813, 'pos': 0.135, 'compound': 1.0}\n",
      "vet {'neg': 0.055, 'neu': 0.809, 'pos': 0.136, 'compound': 1.0}\n"
     ]
    }
   ],
   "source": [
    "from vaderSentiment.vaderSentiment import SentimentIntensityAnalyzer \n",
    "\n",
    "analyzer = SentimentIntensityAnalyzer() \n",
    "\n",
    "\n",
    "#get sentiment for each crypto using uncleaned data (to pick up on punctuation and capitalization etc)\n",
    "for key in uncleaned_dict:\n",
    "    if len(uncleaned_dict[key]['body'])>5000:\n",
    "        print(key, analyzer.polarity_scores(uncleaned_dict[key]['body'].sample(5000)))"
   ]
  }
 ],
 "metadata": {
  "kernelspec": {
   "display_name": "Python 3",
   "language": "python",
   "name": "python3"
  },
  "language_info": {
   "codemirror_mode": {
    "name": "ipython",
    "version": 3
   },
   "file_extension": ".py",
   "mimetype": "text/x-python",
   "name": "python",
   "nbconvert_exporter": "python",
   "pygments_lexer": "ipython3",
   "version": "3.8.8"
  }
 },
 "nbformat": 4,
 "nbformat_minor": 5
}
