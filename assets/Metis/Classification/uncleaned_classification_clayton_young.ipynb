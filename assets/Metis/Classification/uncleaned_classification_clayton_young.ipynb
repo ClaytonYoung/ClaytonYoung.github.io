{
 "cells": [
  {
   "cell_type": "code",
   "execution_count": 3,
   "metadata": {},
   "outputs": [],
   "source": [
    "# import pandas as pd\n",
    "from functools import reduce #merging dfs\n",
    "import numpy as np\n",
    "import pandas as pd\n",
    "import matplotlib.pyplot as plt\n",
    "import seaborn as sns\n",
    "from sklearn.neighbors import KNeighborsClassifier\n",
    "from sklearn.model_selection import cross_val_score, GridSearchCV, train_test_split, RandomizedSearchCV\n",
    "from sklearn.linear_model import LogisticRegression\n",
    "from sklearn.metrics import precision_score, recall_score, precision_recall_curve,f1_score,fbeta_score, log_loss, confusion_matrix, roc_auc_score, roc_curve, fbeta_score, make_scorer\n",
    "from sklearn.preprocessing import StandardScaler\n",
    "from datetime import datetime, timedelta\n",
    "import pickle\n",
    "import matplotlib as plot\n",
    "from sklearn.tree import DecisionTreeClassifier\n",
    "from sklearn.ensemble import RandomForestClassifier\n",
    "from sklearn.model_selection import GridSearchCV\n",
    "from imblearn import over_sampling\n",
    "from sklearn.pipeline import make_pipeline\n",
    "import xgboost as xgb\n",
    "from sklearn.compose import ColumnTransformer\n",
    "\n",
    "\n",
    "\n",
    "from sklearn.ensemble import RandomForestClassifier, ExtraTreesClassifier, VotingClassifier\n",
    "\n",
    "from mlxtend.classifier import StackingClassifier # <-- note: this is not from sklearn!\n",
    "from sklearn.pipeline import Pipeline\n",
    "\n",
    "\n",
    "\n",
    "\n",
    "\n",
    "\n",
    "\n",
    "#saving\n",
    "#pickle.dump(master_df, open(\"master_df.pickle\", \"wb\" ))\n",
    "\n",
    "#reading df\n",
    "#master_df=pickle.load(open(\"master_df.pickle\", \"rb\"))\n",
    "\n",
    "\n",
    "plt.style.use('ggplot')\n",
    "%matplotlib inline\n",
    "np.set_printoptions(suppress=True) # Suppress scientific notation where possible\n",
    "\n",
    "pd.options.display.max_rows = 251\n"
   ]
  },
  {
   "cell_type": "markdown",
   "metadata": {},
   "source": [
    "# Importing "
   ]
  },
  {
   "cell_type": "code",
   "execution_count": 317,
   "metadata": {},
   "outputs": [],
   "source": [
    "#neuropysch\n",
    "neuropsych_df=pd.read_excel('mac_neuropsych.xlsx', sheet_name='mac_neuropsychmmse',\n",
    "                           index_col=0)\n",
    "#loose mask for filtering data with nulls\n",
    "neuropsych_df=neuropsych_df[neuropsych_df['MMSETot']>=0]"
   ]
  },
  {
   "cell_type": "code",
   "execution_count": 318,
   "metadata": {
    "scrolled": true
   },
   "outputs": [],
   "source": [
    "#additional neuropsych\n",
    "bedside_df=pd.read_excel ('mac_query.xlsx',\n",
    "                          sheet_name='mac_bedsidescreen', index_col=0)\n",
    "#masking data with nulls \n",
    "bedside_df=bedside_df[bedside_df['MMSETot']>=0]"
   ]
  },
  {
   "cell_type": "code",
   "execution_count": 319,
   "metadata": {},
   "outputs": [],
   "source": [
    "#demographics\n",
    "demo_df=pd.read_excel('mac_demo.xlsx', index_col=0)"
   ]
  },
  {
   "cell_type": "code",
   "execution_count": 320,
   "metadata": {},
   "outputs": [],
   "source": [
    "#clinical dementia rating \n",
    "cdr_df=pd.read_excel('mac_cdr.xlsx', index_col=0)"
   ]
  },
  {
   "cell_type": "code",
   "execution_count": 321,
   "metadata": {},
   "outputs": [],
   "source": [
    "#diagnosis \n",
    "dx_df=pd.read_excel ('mac_dxl.xlsx', sheet_name='mac_diagnosis', index_col=0)"
   ]
  },
  {
   "cell_type": "markdown",
   "metadata": {},
   "source": [
    "# Filtering and merging"
   ]
  },
  {
   "cell_type": "code",
   "execution_count": 428,
   "metadata": {},
   "outputs": [],
   "source": [
    "#can read in pickles instead of running importing chunks\n",
    "neuropsych_df=pickle.load(open(\"neuropsych_df.pickle\", \"rb\"))\n",
    "bedside_df=pickle.load(open(\"bedside_df.pickle\", \"rb\"))\n",
    "demo_df=pickle.load(open(\"demo_df.pickle\", \"rb\"))\n",
    "cdr_df=pickle.load(open(\"cdr_df.pickle\", \"rb\"))\n",
    "dx_df=pickle.load(open(\"dx_df.pickle\", \"rb\"))\n"
   ]
  },
  {
   "cell_type": "code",
   "execution_count": 429,
   "metadata": {},
   "outputs": [
    {
     "data": {
      "text/plain": [
       "(32813, 30)"
      ]
     },
     "execution_count": 429,
     "metadata": {},
     "output_type": "execute_result"
    }
   ],
   "source": [
    "#selecting only date and mmse data columns\n",
    "col_names=list(bedside_df.iloc[:, np.r_[1, 15:44]].columns)\n",
    "\n",
    "#masking to merge two datasets with mmse data and saved as mmse_df\n",
    "mmse_df=neuropsych_df[col_names]\n",
    "mmse_df=mmse_df.append(bedside_df[col_names])\n",
    "mmse_df.shape"
   ]
  },
  {
   "cell_type": "code",
   "execution_count": 430,
   "metadata": {},
   "outputs": [],
   "source": [
    "#saving cdr df as w only relevant columns\n",
    "cdr_df=cdr_df[['DCDate','CDRTot']]\n",
    "#finding those that are healthy but without a cdr score\n",
    "norms=pd.DataFrame(dx_df[(dx_df['NORMAL']==5)|\n",
    "            (dx_df['ClinSynBestEst']=='CLINICALLY NORMAL')|\n",
    "            (dx_df['DxPrim']=='NORMAL')|\n",
    "            (dx_df['Level1']=='NORMAL')|\n",
    "            (dx_df['Level2']=='NORMAL')|\n",
    "            (dx_df['Level3']=='NORMAL')|\n",
    "            (dx_df['Level4']=='NORMAL')|\n",
    "            (dx_df['Level5']=='NORMAL')|\n",
    "            (dx_df['ResDxA']=='RECRUITED CONTROL NORMAL')]['DCDate'])\n",
    "#merging the cdr and norms \n",
    "norms=pd.merge(cdr_df, norms, on = 'PIDN')\n",
    "\n",
    "#filtering to only those where the data entries fall within 90 days-we can't assume that someone has the same cdr score at a different date\n",
    "norms=norms[pd.to_datetime(norms.DCDate_x)-pd.to_datetime(norms.DCDate_y)<pd.Timedelta(90,'d')]\n",
    "\n"
   ]
  },
  {
   "cell_type": "code",
   "execution_count": 431,
   "metadata": {},
   "outputs": [],
   "source": [
    "\n",
    "#setting cdr to zero for those that had a label of 'normal' if the cdr score is missing or if the cdr is negative(this also means the data were missing)\n",
    "norms.loc[(norms['CDRTot']<0)|(norms['CDRTot'].isna()),'CDRTot']= 0\n",
    "\n",
    "#renaming the date column we'll keep\n",
    "norms=norms.iloc[:,0:2].rename(columns={'DCDate_x':'DCDate'})\n",
    "#appending the norms dataframe to the cdr data frame\n",
    "cdr_df=cdr_df.append(norms)\n",
    "#dropping all data who do not have a cdr score or a negative cdr score (those were set to zero)\n",
    "cdr_df=cdr_df[cdr_df['CDRTot']>=0].dropna()\n",
    "\n",
    "#merging the mmse data to the newly modified df\n",
    "master_df=pd.merge(mmse_df, cdr_df, on='PIDN', how='inner')\n",
    "#keep only the data that matches date of the other dataframe's date\n",
    "\n",
    "#drop this data since date was out of range\n",
    "master_df.drop(index=32208, inplace=True)\n",
    "\n"
   ]
  },
  {
   "cell_type": "code",
   "execution_count": 432,
   "metadata": {},
   "outputs": [],
   "source": [
    "master_df=master_df[pd.to_datetime(master_df.DCDate_x)-pd.to_datetime(master_df.DCDate_y)<pd.Timedelta(180,'d')]\n"
   ]
  },
  {
   "cell_type": "code",
   "execution_count": 433,
   "metadata": {},
   "outputs": [],
   "source": [
    "longitudinal_df=master_df.drop_duplicates()\n",
    "\n",
    "master_df=master_df.drop_duplicates().groupby('PIDN').last()\n"
   ]
  },
  {
   "cell_type": "code",
   "execution_count": 434,
   "metadata": {},
   "outputs": [],
   "source": [
    "#merge master df and demographics df together\n",
    "master_df=pd.merge(master_df,demo_df.iloc[:, np.r_[0,4:7]], on='PIDN')"
   ]
  },
  {
   "cell_type": "code",
   "execution_count": 435,
   "metadata": {},
   "outputs": [],
   "source": [
    "#convert dob to datetime\n",
    "master_df['DOB']=pd.to_datetime(master_df['DOB'])\n",
    "#get diff from data collection date form bday and convert to years\n",
    "master_df['age']=(master_df['DCDate_x']-master_df['DOB']) / np.timedelta64(1, 'Y')"
   ]
  },
  {
   "cell_type": "code",
   "execution_count": 436,
   "metadata": {},
   "outputs": [],
   "source": [
    "master_df=master_df.dropna()"
   ]
  },
  {
   "cell_type": "code",
   "execution_count": 437,
   "metadata": {},
   "outputs": [],
   "source": [
    "master_df=master_df.drop(['DCDate_x', 'DCDate_y', 'MMSETotalOnly', 'DOB'], axis=1)\n"
   ]
  },
  {
   "cell_type": "code",
   "execution_count": 438,
   "metadata": {},
   "outputs": [],
   "source": [
    "#remove spaces\n",
    "master_df['Hand']=master_df['Hand'].str.strip()"
   ]
  },
  {
   "cell_type": "code",
   "execution_count": 439,
   "metadata": {},
   "outputs": [],
   "source": [
    "master_df[\"Hand\"] = master_df[\"Hand\"].astype('category')\n",
    "#dementia score of 1 has dementia\n",
    "master_df.loc[master_df['CDRTot']>=.5, 'Dementia']=1\n",
    "master_df['Dementia']=master_df['Dementia'].fillna(0)\n",
    "master_df['Dementia']=master_df['Dementia'].astype('category').cat.codes\n",
    "\n"
   ]
  },
  {
   "cell_type": "code",
   "execution_count": 440,
   "metadata": {},
   "outputs": [],
   "source": [
    "master_df['Dementia']=master_df['Dementia'].fillna(0)"
   ]
  },
  {
   "cell_type": "code",
   "execution_count": 441,
   "metadata": {},
   "outputs": [],
   "source": [
    "#2-right, 1-left,0-amb\n",
    "master_df['Hand']=master_df[\"Hand\"].cat.codes"
   ]
  },
  {
   "cell_type": "code",
   "execution_count": 442,
   "metadata": {},
   "outputs": [],
   "source": [
    "#removing CDR scores as we're now using a binary classification of dementia, which was derived from this score\n",
    "master_df.drop(['CDRTot'], axis=1, inplace=True)\n",
    "\n",
    "# removing all data that has negative values-this will mess things up for naive bayes model \n",
    "master_df=master_df[master_df.select_dtypes(include=[np.number]).ge(0).all(1)]\n",
    "\n"
   ]
  },
  {
   "cell_type": "markdown",
   "metadata": {},
   "source": [
    "## Load in dfs to use"
   ]
  },
  {
   "cell_type": "code",
   "execution_count": 4,
   "metadata": {},
   "outputs": [],
   "source": [
    "####\n",
    "#Load in the master_df pickle\n",
    "####\n",
    "\n",
    "master_df=pickle.load(open(\"master_df.pickle\", \"rb\"))\n",
    "#longitudinal_df=pickle.laod(open('longitudinal_df.pickle', 'rb'))\n"
   ]
  },
  {
   "cell_type": "code",
   "execution_count": 6,
   "metadata": {},
   "outputs": [],
   "source": [
    "scaler = StandardScaler()\n",
    "#X=pd.DataFrame(scaler.fit_transform(master_df.iloc[:,:-1]))\n",
    "X=master_df.iloc[:,:-1]\n",
    "y=master_df['Dementia']\n",
    "#get column names to pass into pipes\n",
    "col_names=X.columns\n",
    "\n",
    "## define the data preparation for the model that need scaled data\n",
    "t = [('scaler', StandardScaler(), col_names)]\n",
    "col_transform = ColumnTransformer(transformers=t,remainder='passthrough')\n",
    "\n",
    "X_train,X_test,y_train,y_test=train_test_split(X, y, test_size=0.2, random_state=42)\n",
    "\n",
    "#temp val split-will overwrite the train data with above split before cross val\n",
    "X_train, X_val, y_train, y_val = train_test_split(X_train, y_train, \n",
    "                                       test_size=.25,     \n",
    "                                       random_state=42)\n",
    "\n",
    "\n",
    "#Using this to score models during hyperparameter tuning\n",
    "ftwo_scorer = make_scorer(fbeta_score, beta=2)"
   ]
  },
  {
   "cell_type": "markdown",
   "metadata": {},
   "source": [
    "## kNN"
   ]
  },
  {
   "cell_type": "code",
   "execution_count": 20,
   "metadata": {},
   "outputs": [
    {
     "name": "stdout",
     "output_type": "stream",
     "text": [
      "Base training f2:  0.883\n",
      "Base validation f2:  0.823\n",
      "\n",
      "Tuned training f2:  0.787\n",
      "Tuned validation f2:  0.780\n",
      "Logloss:  0.481\n",
      "f1:  0.824\n",
      "ROC AUC score:   0.84\n",
      "Best Threshold=0.480000, G-Mean=0.763\n"
     ]
    }
   ],
   "source": [
    "knn_model = KNeighborsClassifier(n_neighbors= 50, p= 1, weights= 'uniform')\n",
    "# define the data preparation and modeling pipeline\n",
    "knn = Pipeline(steps=[('prep',col_transform), ('m', knn_model)])\n",
    "\n",
    "#fit model \n",
    "knn.fit(X_train,y_train)\n",
    "\n",
    "#roc curve\n",
    "knn_fpr, knn_tpr, knn_thresholds = roc_curve(y_test, knn.predict_proba(X_test)[:,1])\n",
    "\n",
    "\n",
    "####################################\n",
    "# The optimal cut off would be where tpr is high and fpr is low\n",
    "# tpr - (1-fpr) is zero or near to zero is the optimal cut off point\n",
    "####################################\n",
    "#find best threshold that balances fpr and tpr\n",
    "knn_gmeans = np.sqrt(knn_tpr * (1-knn_fpr))\n",
    "# locate the index of the largest g-mean\n",
    "knn_ix = np.argmax(knn_gmeans)\n",
    "\n",
    "\n",
    "# Precision = TP / (TP + FP)\n",
    "# Recall = TP/P = True positive rate\n",
    "# false positive rate = FP / true negatives = FP / (FP + TN) \n",
    "#for confusion matrices\n",
    "knn_confusion = confusion_matrix(y_test, knn.predict(X_test))\n",
    "knn_confusion_threshold = confusion_matrix(y_test, knn.predict_proba(X_test)[:,1]>knn_thresholds[knn_ix])\n",
    "\n",
    "\n",
    "\n",
    "\n",
    "print('Base training f2:  0.883')\n",
    "print('Base validation f2:  0.823')\n",
    "print('')\n",
    "print(\"Tuned training f2: {:6.3f}\".format(fbeta_score(y_train,knn.predict(X_train), beta=2)))\n",
    "print(\"Tuned validation f2: {:6.3f}\".format(fbeta_score(y_val,knn.predict(X_val), beta=2)))\n",
    "y_prob_pred_val = knn.predict_proba(X_val)[:,1]\n",
    "y_predict = knn.predict(X_val)\n",
    "print(\"Logloss: {:6.3f}\".format(log_loss(y_val,y_prob_pred_val)))\n",
    "print(\"f1: {:6.3f}\".format(f1_score(y_val, y_predict)))\n",
    "print(\"ROC AUC score: {:6.3}\".format(roc_auc_score(y_test, knn.predict_proba(X_test)[:,1])))\n",
    "print('Best Threshold=%f, G-Mean=%.3f' % (knn_thresholds[knn_ix], knn_gmeans[knn_ix]))\n"
   ]
  },
  {
   "cell_type": "markdown",
   "metadata": {},
   "source": [
    "## Logistic regression\n",
    "\n",
    "[logloss (cross entropy) explanation](https://www.kaggle.com/dansbecker/what-is-log-loss)"
   ]
  },
  {
   "cell_type": "code",
   "execution_count": 509,
   "metadata": {},
   "outputs": [
    {
     "name": "stdout",
     "output_type": "stream",
     "text": [
      "Base training f2:  0.868\n",
      "Base validation f2:  0.849\n",
      "\n",
      "Tuned training f2:  0.877\n",
      "Tuned validation f2:  0.865\n",
      "Logloss:  0.412\n",
      "f1:  0.852\n",
      "ROC AUC score:  0.848\n",
      "Best Threshold=0.649884, G-Mean=0.768\n"
     ]
    }
   ],
   "source": [
    "# define the model\n",
    "log_model = LogisticRegression(C=0.01, solver='lbfgs')\n",
    "# define the data preparation and modeling pipeline\n",
    "logit = Pipeline(steps=[('prep',col_transform), ('m', log_model)])\n",
    "\n",
    "#fit model to train data\n",
    "logit.fit(X_train,y_train)\n",
    "\n",
    "#for roc plot\n",
    "log_fpr, log_tpr, log_thresholds = roc_curve(y_test, logit.predict_proba(X_test)[:,1])\n",
    "\n",
    "\n",
    "####################################\n",
    "# The optimal cut off would be where tpr is high and fpr is low\n",
    "# tpr - (1-fpr) is zero or near to zero is the optimal cut off point\n",
    "####################################\n",
    "#find best threshold that balances fpr and tpr\n",
    "log_gmeans = np.sqrt(log_tpr * (1-log_fpr))\n",
    "# locate the index of the largest g-mean\n",
    "log_ix = np.argmax(log_gmeans)\n",
    "#for conf matrices\n",
    "\n",
    "#for conf matrices\n",
    "log_confusion = confusion_matrix(y_test, logit.predict(X_test))\n",
    "log_confusion_threshold = confusion_matrix(y_test, logit.predict_proba(X_test)[:,1]>log_thresholds[log_ix])\n",
    "\n",
    "\n",
    "\n",
    "print('Base training f2:  0.868')\n",
    "print('Base validation f2:  0.849')\n",
    "print('')\n",
    "print(\"Tuned training f2: {:6.3f}\".format(fbeta_score(y_train,logit.predict(X_train), beta=2)))\n",
    "print(\"Tuned validation f2: {:6.3f}\".format(fbeta_score(y_val,logit.predict(X_val), beta=2)))\n",
    "y_prob_pred_val = logit.predict_proba(X_val)[:,1]\n",
    "y_predict = logit.predict(X_val)\n",
    "print(\"Logloss: {:6.3f}\".format(log_loss(y_val,y_prob_pred_val)))\n",
    "print(\"f1: {:6.3f}\".format(f1_score(y_val, y_predict)))\n",
    "print(\"ROC AUC score: {:6.3}\".format(roc_auc_score(y_test, logit.predict_proba(X_test)[:,1])))\n",
    "print('Best Threshold=%f, G-Mean=%.3f' % (log_thresholds[log_ix], log_gmeans[log_ix]))"
   ]
  },
  {
   "cell_type": "markdown",
   "metadata": {},
   "source": [
    "# Tree models"
   ]
  },
  {
   "cell_type": "code",
   "execution_count": 513,
   "metadata": {},
   "outputs": [
    {
     "name": "stdout",
     "output_type": "stream",
     "text": [
      "Base training f2: 1.000\n",
      "Base validation f2: 0.866\n",
      "\n",
      "Tuned training f2:  0.879\n",
      "Tuned validation f2:  0.873\n",
      "Logloss:  0.413\n",
      "f1:  0.862\n",
      "Tuned ROC AUC score: 0.852\n",
      "Best Threshold=0.704200, G-Mean=0.785\n"
     ]
    }
   ],
   "source": [
    "\n",
    "randomforest = RandomForestClassifier(bootstrap=True,\n",
    "                                      max_depth= 5, \n",
    "                                      max_features= 'auto',\n",
    "                                      n_estimators= 50)\n",
    "\n",
    "randomforest.fit(X_train,y_train)\n",
    "\n",
    "\n",
    "\n",
    "#roc curve\n",
    "forest_fpr, forest_tpr, forest_thresholds = roc_curve(y_test, randomforest.predict_proba(X_test)[:,1])\n",
    "\n",
    "####################################\n",
    "# The optimal cut off would be where tpr is high and fpr is low\n",
    "# tpr - (1-fpr) is zero or near to zero is the optimal cut off point\n",
    "####################################\n",
    "#find best threshold that balances fpr and tpr\n",
    "forest_gmeans = np.sqrt(forest_tpr * (1-forest_fpr))\n",
    "# locate the index of the largest g-mean\n",
    "forest_ix = np.argmax(forest_gmeans)\n",
    "\n",
    "\n",
    "#confusion matrix w/threshold\n",
    "forest_confusion_threshold = confusion_matrix(y_test, \n",
    "                                              randomforest.predict_proba(X_test)[:,1]>forest_thresholds[forest_ix])\n",
    "#confusion matrix \n",
    "forest_confusion = confusion_matrix(y_test, randomforest.predict(X_test))\n",
    "\n",
    "\n",
    "\n",
    "print(\"Base training f2: 1.000\")\n",
    "print(\"Base validation f2: 0.866\")\n",
    "print('')\n",
    "print(\"Tuned training f2: {:6.3f}\".format(fbeta_score(y_train,randomforest.predict(X_train), beta=2)))\n",
    "print(\"Tuned validation f2: {:6.3f}\".format(fbeta_score(y_val,randomforest.predict(X_val), beta=2)))\n",
    "y_prob_pred_val = randomforest.predict_proba(X_val)[:,1]\n",
    "y_predict = randomforest.predict(X_val)\n",
    "print(\"Logloss: {:6.3f}\".format(log_loss(y_val,y_prob_pred_val)))\n",
    "print(\"f1: {:6.3f}\".format(f1_score(y_val, y_predict)))\n",
    "print(\"Tuned ROC AUC score:{:6.3}\".format(roc_auc_score(y_test, randomforest.predict_proba(X_test)[:,1])))\n",
    "print('Best Threshold=%f, G-Mean=%.3f' % (forest_thresholds[forest_ix], forest_gmeans[forest_ix]))"
   ]
  },
  {
   "cell_type": "markdown",
   "metadata": {},
   "source": [
    "\n",
    "\n"
   ]
  },
  {
   "cell_type": "markdown",
   "metadata": {},
   "source": [
    "# BOOST"
   ]
  },
  {
   "cell_type": "code",
   "execution_count": 522,
   "metadata": {},
   "outputs": [
    {
     "name": "stdout",
     "output_type": "stream",
     "text": [
      "Base training f2:  0.893\n",
      "Base validation f2:  0.865\n",
      "\n",
      "Tuned boost training f2:  0.868\n",
      "Tuned boost validation f2:  0.859\n",
      "Tuned logloss:  0.418\n",
      "Tuned f1:  0.855\n",
      "Tuned ROC AUC score: 0.848\n",
      "Best Threshold=0.663992, G-Mean=0.776\n"
     ]
    }
   ],
   "source": [
    "#instantiate boosted model with recommended hps \n",
    "gbm = xgb.XGBClassifier(n_estimators=180,\n",
    "                    max_depth=2,\n",
    "                    objective='binary:logistic', #new objective\n",
    "                    learning_rate=.05, \n",
    "                    subsample=1,\n",
    "                    min_child_weight=1,\n",
    "                    colsample_bytree=.8,\n",
    "                    use_label_encoder=False,\n",
    "                    gamma=1.5)\n",
    "\n",
    "\n",
    "eval_set=[(X_train,y_train),(X_val,y_val)]\n",
    "gbm.fit(X_train, y_train, \n",
    "        eval_set=eval_set,\n",
    "        eval_metric='auc', #new evaluation metric: classification error (could also use AUC, e.g.)\n",
    "        early_stopping_rounds=10,\n",
    "        verbose=False)\n",
    "\n",
    "\n",
    "\n",
    "\n",
    "#roc curve\n",
    "gbm_fpr, gbm_tpr, gbm_thresholds = roc_curve(y_test, gbm.predict_proba(X_test)[:,1])\n",
    "\n",
    "####################################\n",
    "# The optimal cut off would be where tpr is high and fpr is low\n",
    "# tpr - (1-fpr) is zero or near to zero is the optimal cut off point\n",
    "####################################\n",
    "#find best threshold that balances fpr and tpr\n",
    "gbm_gmeans = np.sqrt(gbm_tpr * (1-gbm_fpr))\n",
    "# locate the index of the largest g-mean\n",
    "gbm_ix = np.argmax(gbm_gmeans)\n",
    "\n",
    "\n",
    "#confusion matrix\n",
    "boost_confusion_threshold = confusion_matrix(y_test, gbm.predict_proba(X_test)[:,1]>gbm_thresholds[gbm_ix])\n",
    "boost_confusion = confusion_matrix(y_test, gbm.predict(X_test))\n",
    "\n",
    "\n",
    "\n",
    "\n",
    "print(\"Base training f2:  0.893\")\n",
    "print(\"Base validation f2:  0.865\")\n",
    "print(\"\")\n",
    "print(\"Tuned boost training f2: {:6.3f}\".format(fbeta_score(y_train,gbm.predict(X_train), beta=2)))\n",
    "print(\"Tuned boost validation f2: {:6.3f}\".format(fbeta_score(y_val,gbm.predict(X_val), beta=2)))\n",
    "#calc log loss (1-* likelihood function)\n",
    "y_prob_pred_val = gbm.predict_proba(X_val)[:,1]\n",
    "y_predict = gbm.predict(X_val)\n",
    "print(\"Tuned logloss: {:6.3f}\".format(log_loss(y_val,y_prob_pred_val)))\n",
    "print(\"Tuned f1: {:6.3f}\".format(f1_score(y_val, y_predict)))\n",
    "print(\"Tuned ROC AUC score:{:6.3}\".format(roc_auc_score(y_test, gbm.predict_proba(X_test)[:,1])))\n",
    "print('Best Threshold=%f, G-Mean=%.3f' % (gbm_thresholds[gbm_ix], gbm_gmeans[gbm_ix]))"
   ]
  },
  {
   "cell_type": "markdown",
   "metadata": {},
   "source": [
    "## Ensebling "
   ]
  },
  {
   "cell_type": "code",
   "execution_count": 526,
   "metadata": {},
   "outputs": [
    {
     "name": "stdout",
     "output_type": "stream",
     "text": [
      "Voting training f2:  0.872\n",
      "Voting validation f2:  0.858\n",
      "Tuned logloss:  0.409\n",
      "Tuned f1:  0.856\n",
      "Tuned ROC AUC score: 0.854\n",
      "Best Threshold=0.620502, G-Mean=0.777\n"
     ]
    }
   ],
   "source": [
    "model_list=[knn,logit,randomforest,gbm]\n",
    "model_names = [\"knn\", \"logit\", \"randomforest\", \"gbm\"]\n",
    "\n",
    "\n",
    "model_vars = [eval(n) for n in model_names]\n",
    "model_list = list(zip(model_names, model_vars))\n",
    "\n",
    "voting = VotingClassifier(estimators=model_list,\n",
    "                                    voting='soft',\n",
    "                                    n_jobs=-1)\n",
    "\n",
    "voting.fit(X_train, y_train)\n",
    "\n",
    "fbeta_score(y_val,voting.predict(X_val), beta =2)\n",
    "\n",
    "\n",
    "\n",
    "#roc curve\n",
    "voting_fpr, voting_tpr, voting_thresholds = roc_curve(y_test, voting.predict_proba(X_test)[:,1])\n",
    "\n",
    "####################################\n",
    "# The optimal cut off would be where tpr is high and fpr is low\n",
    "# tpr - (1-fpr) is zero or near to zero is the optimal cut off point\n",
    "####################################\n",
    "#find best threshold that balances fpr and tpr\n",
    "voting_gmeans = np.sqrt(voting_tpr * (1-voting_fpr))\n",
    "# locate the index of the largest g-mean\n",
    "voting_ix = np.argmax(voting_gmeans)\n",
    "\n",
    "\n",
    "#confusion matrix\n",
    "voting_confusion_threshold = confusion_matrix(y_test, voting.predict_proba(X_test)[:,1]>voting_thresholds[voting_ix])\n",
    "voting_confusion = confusion_matrix(y_test, voting.predict(X_test))\n",
    "\n",
    "\n",
    "\n",
    "\n",
    "\n",
    "print(\"Voting training f2: {:6.3f}\".format(fbeta_score(y_train,voting.predict(X_train), beta=2)))\n",
    "print(\"Voting validation f2: {:6.3f}\".format(fbeta_score(y_val,voting.predict(X_val), beta=2)))\n",
    "#calc log loss (1-* likelihood function)\n",
    "y_prob_pred_val = voting.predict_proba(X_val)[:,1]\n",
    "y_predict = voting.predict(X_val)\n",
    "print(\"Tuned logloss: {:6.3f}\".format(log_loss(y_val,y_prob_pred_val)))\n",
    "print(\"Tuned f1: {:6.3f}\".format(f1_score(y_val, y_predict)))\n",
    "print(\"Tuned ROC AUC score:{:6.3}\".format(roc_auc_score(y_test, voting.predict_proba(X_test)[:,1])))\n",
    "print('Best Threshold=%f, G-Mean=%.3f' % (voting_thresholds[voting_ix], voting_gmeans[voting_ix]))"
   ]
  },
  {
   "cell_type": "markdown",
   "metadata": {},
   "source": [
    "# Plots"
   ]
  },
  {
   "cell_type": "code",
   "execution_count": 527,
   "metadata": {},
   "outputs": [
    {
     "name": "stdout",
     "output_type": "stream",
     "text": [
      "kNN ROC AUC score =  0.840\n",
      "ROC AUC score =  0.848\n",
      "Random Forest ROC AUC score =  0.852\n",
      "Boosted ROC AUC score =  0.848\n",
      "Tuned ROC AUC score: 0.854\n"
     ]
    },
    {
     "data": {
      "image/png": "[encoded data removed]",
      "text/plain": [
       "<Figure size 432x288 with 1 Axes>"
      ]
     },
     "metadata": {
      "needs_background": "light"
     },
     "output_type": "display_data"
    }
   ],
   "source": [
    "#kNN\n",
    "plt.plot(knn_fpr, knn_tpr,lw=2)\n",
    "# logreg\n",
    "plt.plot(log_fpr, log_tpr,lw=2)\n",
    "# random forest\n",
    "plt.plot(forest_fpr, forest_tpr,lw=2)\n",
    "#boost\n",
    "plt.plot(gbm_fpr, gbm_tpr,lw=2)\n",
    "#voting\n",
    "plt.plot(voting_fpr, voting_tpr,lw=2)\n",
    "\n",
    "\n",
    "\n",
    "#linear reference line\n",
    "plt.plot([0,1],[0,1],c='violet',ls='--')\n",
    "\n",
    "\n",
    "plt.xlim([-0.05,1.05])\n",
    "plt.ylim([-0.05,1.05])\n",
    "plt.legend(['kNN','logreg','random forest', 'boost', 'voting'])\n",
    "\n",
    "print(\"kNN ROC AUC score = {:6.3f}\".format(roc_auc_score(y_test, knn.predict_proba(X_test)[:,1])))\n",
    "print(\"ROC AUC score = {:6.3}\".format(roc_auc_score(y_test, logit.predict_proba(X_test)[:,1])))\n",
    "print(\"Random Forest ROC AUC score = {:6.3f}\".format(roc_auc_score(y_test, randomforest.predict_proba(X_test)[:,1])))\n",
    "print(\"Boosted ROC AUC score = {:6.3f}\".format(roc_auc_score(y_test, gbm.predict_proba(X_test)[:,1])))\n",
    "print(\"Tuned ROC AUC score:{:6.3}\".format(roc_auc_score(y_test, voting.predict_proba(X_test)[:,1])))\n",
    "\n",
    "\n",
    "\n"
   ]
  },
  {
   "cell_type": "code",
   "execution_count": 529,
   "metadata": {},
   "outputs": [
    {
     "name": "stdout",
     "output_type": "stream",
     "text": [
      "Tuned kNN training f2:  0.787\n",
      "Tuned kNN validation f2:  0.780\n",
      "Tuned kNN test f2:  0.766\n",
      "\n",
      "Tuned logreg training f2:  0.877\n",
      "Tuned logreg validation f2:  0.865\n",
      "Tuned logreg test f2:  0.862\n",
      "\n",
      "Tuned forest training f2:  0.879\n",
      "Tuned forest validation f2:  0.873\n",
      "Tuned forest test f2:  0.868\n",
      "\n",
      "Tuned boost training f2:  0.868\n",
      "Tuned boost validation f2:  0.859\n",
      "Tuned boost test f2:  0.845\n",
      "\n",
      "Voting training f2:  0.872\n",
      "Voting validation f2:  0.858\n",
      "Voting test f2:  0.854\n",
      "\n",
      "Bayes training f2:  0.767\n",
      "Bayes validation f2:  0.736\n",
      "Bayes test f2:  0.749\n"
     ]
    },
    {
     "data": {
      "image/png": "[encoded data removed]",
      "text/plain": [
       "<Figure size 1440x1440 with 20 Axes>"
      ]
     },
     "metadata": {
      "needs_background": "light"
     },
     "output_type": "display_data"
    }
   ],
   "source": [
    "fig, axes = plt.subplots(5, 2, figsize=(20, 20))\n",
    "\n",
    "\n",
    "#knn confusion \n",
    "sns.heatmap(knn_confusion,ax=axes[0, 0], cmap=plt.cm.Blues, annot=True,fmt=\"d\",\n",
    "           xticklabels=['no dementia', 'dementia'],\n",
    "           yticklabels=['no dementia', 'dementia'])\n",
    "axes[0,0].title.set_text('kNN')\n",
    "\n",
    "#knn confusion w/recommended threshold\n",
    "sns.heatmap(knn_confusion_threshold,ax=axes[0, 1], cmap=plt.cm.Blues, annot=True,fmt=\"d\",\n",
    "           xticklabels=['no dementia', 'dementia'],\n",
    "           yticklabels=['no dementia', 'dementia'])\n",
    "axes[0,1].title.set_text('kNN Threshold')\n",
    "\n",
    "#log confusion\n",
    "sns.heatmap(log_confusion,ax=axes[1, 0], cmap=plt.cm.Blues, annot=True,fmt=\"d\",\n",
    "           xticklabels=['no dementia', 'dementia'],\n",
    "           yticklabels=['no dementia', 'dementia'])\n",
    "axes[1,0].title.set_text('LogReg')\n",
    "\n",
    "#log confusion w/recommended threshold\n",
    "sns.heatmap(log_confusion_threshold, ax=axes[1, 1], cmap=plt.cm.Blues, annot=True,fmt=\"d\",\n",
    "           xticklabels=['no dementia', 'dementia'],\n",
    "           yticklabels=['no dementia', 'dementia'])\n",
    "axes[1,1].title.set_text('LogReg Threshold')\n",
    "\n",
    "#forest confusion \n",
    "sns.heatmap(forest_confusion,ax=axes[2, 0], cmap=plt.cm.Blues, annot=True,fmt=\"d\",\n",
    "           xticklabels=['no dementia', 'dementia'],\n",
    "           yticklabels=['no dementia', 'dementia'])\n",
    "axes[2,0].title.set_text('Forest')\n",
    "\n",
    "#forest confusion w/recommended threshold\n",
    "sns.heatmap(forest_confusion_threshold,ax=axes[2, 1], cmap=plt.cm.Blues, annot=True,fmt=\"d\",\n",
    "           xticklabels=['no dementia', 'dementia'],\n",
    "           yticklabels=['no dementia', 'dementia'])\n",
    "axes[2,1].title.set_text('Forest Threshold')\n",
    "\n",
    "#xgb confusion \n",
    "sns.heatmap(boost_confusion,ax=axes[3, 0], cmap=plt.cm.Blues, annot=True,fmt=\"d\",\n",
    "           xticklabels=['no dementia', 'dementia'],\n",
    "           yticklabels=['no dementia', 'dementia'])\n",
    "axes[3,0].title.set_text('Boost')\n",
    "\n",
    "#xgb confusion w/recommended threshold\n",
    "sns.heatmap(boost_confusion_threshold,ax=axes[3, 1], cmap=plt.cm.Blues, annot=True,fmt=\"d\",\n",
    "           xticklabels=['no dementia', 'dementia'],\n",
    "           yticklabels=['no dementia', 'dementia'])\n",
    "axes[3,1].title.set_text('Boost Threshold')\n",
    "\n",
    "#voting confusion \n",
    "sns.heatmap(voting_confusion,ax=axes[4, 0], cmap=plt.cm.Blues, annot=True,fmt=\"d\",\n",
    "           xticklabels=['no dementia', 'dementia'],\n",
    "           yticklabels=['no dementia', 'dementia'])\n",
    "axes[4,0].title.set_text('Voting')\n",
    "\n",
    "#voting confusion w/recommended threshold\n",
    "sns.heatmap(voting_confusion_threshold,ax=axes[4, 1], cmap=plt.cm.Blues, annot=True,fmt=\"d\",\n",
    "           xticklabels=['no dementia', 'dementia'],\n",
    "           yticklabels=['no dementia', 'dementia'])\n",
    "axes[4,1].title.set_text('voting Threshold')\n",
    "\n",
    "\n",
    "\n",
    "\n",
    "\n",
    "plt.setp(axes[-1, :], xlabel='Predicted')\n",
    "plt.setp(axes[:, 0], ylabel='Actual')\n",
    "\n",
    "\n",
    "print(\"Tuned kNN training f2: {:6.3f}\".format(fbeta_score(y_train,knn.predict(X_train), beta=2)))\n",
    "print(\"Tuned kNN validation f2: {:6.3f}\".format(fbeta_score(y_val,knn.predict(X_val), beta=2)))\n",
    "print(\"Tuned kNN test f2: {:6.3f}\".format(fbeta_score(y_test,knn.predict(X_test), beta=2)))\n",
    "print('')\n",
    "print(\"Tuned logreg training f2: {:6.3f}\".format(fbeta_score(y_train,logit.predict(X_train), beta=2)))\n",
    "print(\"Tuned logreg validation f2: {:6.3f}\".format(fbeta_score(y_val,logit.predict(X_val), beta=2)))\n",
    "print(\"Tuned logreg test f2: {:6.3f}\".format(fbeta_score(y_test,logit.predict(X_test), beta=2)))\n",
    "print('')\n",
    "print(\"Tuned forest training f2: {:6.3f}\".format(fbeta_score(y_train,randomforest.predict(X_train), beta=2)))\n",
    "print(\"Tuned forest validation f2: {:6.3f}\".format(fbeta_score(y_val,randomforest.predict(X_val), beta=2)))\n",
    "print(\"Tuned forest test f2: {:6.3f}\".format(fbeta_score(y_test,randomforest.predict(X_test), beta=2)))\n",
    "print('')\n",
    "print(\"Tuned boost training f2: {:6.3f}\".format(fbeta_score(y_train,gbm.predict(X_train), beta=2)))\n",
    "print(\"Tuned boost validation f2: {:6.3f}\".format(fbeta_score(y_val,gbm.predict(X_val), beta=2)))\n",
    "print(\"Tuned boost test f2: {:6.3f}\".format(fbeta_score(y_test,gbm.predict(X_test), beta=2)))\n",
    "print('')\n",
    "print(\"Voting training f2: {:6.3f}\".format(fbeta_score(y_train,voting.predict(X_train), beta=2)))\n",
    "print(\"Voting validation f2: {:6.3f}\".format(fbeta_score(y_val,voting.predict(X_val), beta=2)))\n",
    "print(\"Voting test f2: {:6.3f}\".format(fbeta_score(y_test,voting.predict(X_test), beta=2)))\n",
    "print('')\n",
    "from sklearn.naive_bayes import MultinomialNB\n",
    "clf = MultinomialNB()\n",
    "clf.fit(X_train, y_train)\n",
    "print(\"Bayes training f2: {:6.3f}\".format(fbeta_score(y_train,clf.predict(X_train), beta=2)))\n",
    "print(\"Bayes validation f2: {:6.3f}\".format(fbeta_score(y_val,clf.predict(X_val), beta=2)))\n",
    "print(\"Bayes test f2: {:6.3f}\".format(fbeta_score(y_test,clf.predict(X_test), beta=2)))"
   ]
  },
  {
   "cell_type": "markdown",
   "metadata": {},
   "source": [
    "# Stacked ensemble"
   ]
  },
  {
   "cell_type": "code",
   "execution_count": null,
   "metadata": {},
   "outputs": [],
   "source": []
  },
  {
   "cell_type": "code",
   "execution_count": 461,
   "metadata": {},
   "outputs": [
    {
     "name": "stdout",
     "output_type": "stream",
     "text": [
      "[23:50:46] WARNING: /opt/concourse/worker/volumes/live/7a2b9f41-3287-451b-6691-43e9a6c0910f/volume/xgboost-split_1619728204606/work/src/learner.cc:1061: Starting in XGBoost 1.3.0, the default evaluation metric used with the objective 'binary:logistic' was changed from 'error' to 'logloss'. Explicitly set eval_metric if you'd like to restore the old behavior.\n",
      "Voting training f2:  0.882\n",
      "Voting validation f2:  0.872\n",
      "Voting test f2:  0.860\n"
     ]
    }
   ],
   "source": [
    "\n",
    "stacked = StackingClassifier(\n",
    "    classifiers=model_vars, meta_classifier=LogisticRegression(), use_probas=False)\n",
    "stacked.fit(X_train, y_train)\n",
    "print(\"Voting training f2: {:6.3f}\".format(fbeta_score(y_train,stacked.predict(X_train), beta=2)))\n",
    "print(\"Voting validation f2: {:6.3f}\".format(fbeta_score(y_val,stacked.predict(X_val), beta=2)))\n",
    "print(\"Voting test f2: {:6.3f}\".format(fbeta_score(y_test,stacked.predict(X_test), beta=2)))\n"
   ]
  },
  {
   "cell_type": "markdown",
   "metadata": {},
   "source": [
    "# knn tuning"
   ]
  },
  {
   "cell_type": "code",
   "execution_count": 29,
   "metadata": {},
   "outputs": [],
   "source": [
    "import imblearn\n",
    "from imblearn.over_sampling import RandomOverSampler\n",
    "#Oversampling healthy controls-------THIS MADE MODELS PERFORM WORSE\n",
    "n_pos = np.sum(y_train == 1)\n",
    "n_neg = np.sum(y_train == 0)\n",
    "ratio={1 : n_pos, 0 : n_neg*2} \n",
    "# randomly oversample positive samples: create 2.8x as many \n",
    "ROS = imblearn.over_sampling.RandomOverSampler(sampling_strategy = ratio, random_state=42) \n",
    "    \n",
    "X_rs, y_rs = ROS.fit_resample(X_train, y_train)\n",
    "\n",
    "\n",
    "smote = imblearn.over_sampling.SMOTE(sampling_strategy=ratio, random_state = 42)\n",
    "    \n",
    "X_tr_smote, y_tr_smote = smote.fit_resample(X_train, y_train)"
   ]
  },
  {
   "cell_type": "code",
   "execution_count": 30,
   "metadata": {},
   "outputs": [
    {
     "name": "stdout",
     "output_type": "stream",
     "text": [
      "0.7473481195756991\n",
      "0.7591287636130687\n"
     ]
    }
   ],
   "source": [
    "knn_model = KNeighborsClassifier()\n",
    "# define the data preparation and modeling pipeline\n",
    "knn = Pipeline(steps=[('prep',col_transform), ('m', knn_model)])\n",
    "\n",
    "\n",
    "knn.fit(X_rs,y_rs)\n",
    "print(fbeta_score(y_val,knn.predict(X_val), beta=2))\n",
    "\n",
    "knn_model = KNeighborsClassifier()\n",
    "# define the data preparation and modeling pipeline\n",
    "knn = Pipeline(steps=[('prep',col_transform), ('m', knn_model)])\n",
    "\n",
    "\n",
    "knn.fit(X_tr_smote,y_tr_smote)\n",
    "print(fbeta_score(y_val,knn.predict(X_val), beta=2))\n",
    "\n"
   ]
  },
  {
   "cell_type": "code",
   "execution_count": 463,
   "metadata": {},
   "outputs": [],
   "source": [
    "\n",
    "\n",
    "k_range = list(range(1, len(X_train), 50))\n",
    "k_scores = []\n",
    "k_scores_dict=dict()\n",
    "for k in k_range:\n",
    "    knn_model = KNeighborsClassifier(n_neighbors=k)\n",
    "    # define the data preparation and modeling pipeline\n",
    "    knn = Pipeline(steps=[('prep',col_transform), ('m', knn_model)])\n",
    "    #change the scoring param if using this\n",
    "    scores = cross_val_score(knn, X_train, y_train, cv=10, scoring=ftwo_scorer, n_jobs=-1)\n",
    "    k_scores.append(scores.mean())\n",
    "    k_scores_dict[k]=scores.mean()"
   ]
  },
  {
   "cell_type": "code",
   "execution_count": 464,
   "metadata": {},
   "outputs": [
    {
     "name": "stdout",
     "output_type": "stream",
     "text": [
      "1201 0.930630430120073\n"
     ]
    },
    {
     "data": {
      "image/png": "[encoded data removed]",
      "text/plain": [
       "<Figure size 432x288 with 1 Axes>"
      ]
     },
     "metadata": {
      "needs_background": "light"
     },
     "output_type": "display_data"
    }
   ],
   "source": [
    "#visualize above code number of neighbors\n",
    "best_k=max(k_scores_dict, key=k_scores_dict.get)\n",
    "print(best_k,k_scores_dict[best_k])\n",
    "\n",
    "import matplotlib.pyplot as plt\n",
    "%matplotlib inline\n",
    "\n",
    "# plot the value of K for KNN (x-axis) versus the cross-validated accuracy (y-axis)\n",
    "plt.plot(k_range, k_scores)\n",
    "plt.xlabel('Value of K for KNN')\n",
    "plt.ylabel('Cross-Validated f2')\n",
    "plt.savefig('knn_cv_accuracy.png')"
   ]
  },
  {
   "cell_type": "markdown",
   "metadata": {},
   "source": [
    "# kNN tuning\n"
   ]
  },
  {
   "cell_type": "code",
   "execution_count": 24,
   "metadata": {},
   "outputs": [
    {
     "ename": "ValueError",
     "evalue": "Invalid parameter weights for estimator Pipeline(steps=[('prep',\n                 ColumnTransformer(remainder='passthrough',\n                                   transformers=[('scaler', StandardScaler(),\n                                                  Index(['Year', 'Season', 'Month', 'Date', 'Day', 'Place', 'Floor', 'City',\n       'County', 'State', 'RepBall', 'RepFlag', 'RepTree', 'Trials', 'World',\n       'RemBall', 'RemFlag', 'RemTree', 'Watch', 'Pencil', 'NoIfs', 'HandPap',\n       'FoldPap', 'OnFloor', 'Eyes', 'Sent', 'Pentgon', 'MMSETot', 'Hand',\n       'Gender', 'Educ', 'age'],\n      dtype='object'))])),\n                ('m', KNeighborsClassifier(n_neighbors=50, p=1))]). Check the list of available parameters with `estimator.get_params().keys()`.",
     "output_type": "error",
     "traceback": [
      "\u001b[0;31m---------------------------------------------------------------------------\u001b[0m",
      "\u001b[0;31mValueError\u001b[0m                                Traceback (most recent call last)",
      "\u001b[0;32m<ipython-input-24-960da3370ba8>\u001b[0m in \u001b[0;36m<module>\u001b[0;34m\u001b[0m\n\u001b[1;32m     13\u001b[0m \u001b[0mknn_grid\u001b[0m \u001b[0;34m=\u001b[0m \u001b[0mRandomizedSearchCV\u001b[0m\u001b[0;34m(\u001b[0m\u001b[0mknn\u001b[0m\u001b[0;34m,\u001b[0m \u001b[0mparam_grid\u001b[0m\u001b[0;34m,\u001b[0m \u001b[0mcv\u001b[0m\u001b[0;34m=\u001b[0m\u001b[0;36m5\u001b[0m\u001b[0;34m,\u001b[0m \u001b[0mscoring\u001b[0m\u001b[0;34m=\u001b[0m\u001b[0mftwo_scorer\u001b[0m\u001b[0;34m,\u001b[0m \u001b[0mn_jobs\u001b[0m\u001b[0;34m=\u001b[0m\u001b[0;36m1\u001b[0m\u001b[0;34m)\u001b[0m\u001b[0;34m\u001b[0m\u001b[0;34m\u001b[0m\u001b[0m\n\u001b[1;32m     14\u001b[0m \u001b[0;31m#fit model\u001b[0m\u001b[0;34m\u001b[0m\u001b[0;34m\u001b[0m\u001b[0;34m\u001b[0m\u001b[0m\n\u001b[0;32m---> 15\u001b[0;31m \u001b[0mknn_grid\u001b[0m\u001b[0;34m.\u001b[0m\u001b[0mfit\u001b[0m\u001b[0;34m(\u001b[0m\u001b[0mX_rs\u001b[0m\u001b[0;34m,\u001b[0m \u001b[0my_rs\u001b[0m\u001b[0;34m)\u001b[0m\u001b[0;34m\u001b[0m\u001b[0;34m\u001b[0m\u001b[0m\n\u001b[0m\u001b[1;32m     16\u001b[0m \u001b[0;31m# view the complete results if desired\u001b[0m\u001b[0;34m\u001b[0m\u001b[0;34m\u001b[0m\u001b[0;34m\u001b[0m\u001b[0m\n\u001b[1;32m     17\u001b[0m \u001b[0mknn_grid\u001b[0m\u001b[0;34m.\u001b[0m\u001b[0mcv_results_\u001b[0m\u001b[0;34m\u001b[0m\u001b[0;34m\u001b[0m\u001b[0m\n",
      "\u001b[0;32m/opt/anaconda3/lib/python3.8/site-packages/sklearn/utils/validation.py\u001b[0m in \u001b[0;36minner_f\u001b[0;34m(*args, **kwargs)\u001b[0m\n\u001b[1;32m     61\u001b[0m             \u001b[0mextra_args\u001b[0m \u001b[0;34m=\u001b[0m \u001b[0mlen\u001b[0m\u001b[0;34m(\u001b[0m\u001b[0margs\u001b[0m\u001b[0;34m)\u001b[0m \u001b[0;34m-\u001b[0m \u001b[0mlen\u001b[0m\u001b[0;34m(\u001b[0m\u001b[0mall_args\u001b[0m\u001b[0;34m)\u001b[0m\u001b[0;34m\u001b[0m\u001b[0;34m\u001b[0m\u001b[0m\n\u001b[1;32m     62\u001b[0m             \u001b[0;32mif\u001b[0m \u001b[0mextra_args\u001b[0m \u001b[0;34m<=\u001b[0m \u001b[0;36m0\u001b[0m\u001b[0;34m:\u001b[0m\u001b[0;34m\u001b[0m\u001b[0;34m\u001b[0m\u001b[0m\n\u001b[0;32m---> 63\u001b[0;31m                 \u001b[0;32mreturn\u001b[0m \u001b[0mf\u001b[0m\u001b[0;34m(\u001b[0m\u001b[0;34m*\u001b[0m\u001b[0margs\u001b[0m\u001b[0;34m,\u001b[0m \u001b[0;34m**\u001b[0m\u001b[0mkwargs\u001b[0m\u001b[0;34m)\u001b[0m\u001b[0;34m\u001b[0m\u001b[0;34m\u001b[0m\u001b[0m\n\u001b[0m\u001b[1;32m     64\u001b[0m \u001b[0;34m\u001b[0m\u001b[0m\n\u001b[1;32m     65\u001b[0m             \u001b[0;31m# extra_args > 0\u001b[0m\u001b[0;34m\u001b[0m\u001b[0;34m\u001b[0m\u001b[0;34m\u001b[0m\u001b[0m\n",
      "\u001b[0;32m/opt/anaconda3/lib/python3.8/site-packages/sklearn/model_selection/_search.py\u001b[0m in \u001b[0;36mfit\u001b[0;34m(self, X, y, groups, **fit_params)\u001b[0m\n\u001b[1;32m    839\u001b[0m                 \u001b[0;32mreturn\u001b[0m \u001b[0mresults\u001b[0m\u001b[0;34m\u001b[0m\u001b[0;34m\u001b[0m\u001b[0m\n\u001b[1;32m    840\u001b[0m \u001b[0;34m\u001b[0m\u001b[0m\n\u001b[0;32m--> 841\u001b[0;31m             \u001b[0mself\u001b[0m\u001b[0;34m.\u001b[0m\u001b[0m_run_search\u001b[0m\u001b[0;34m(\u001b[0m\u001b[0mevaluate_candidates\u001b[0m\u001b[0;34m)\u001b[0m\u001b[0;34m\u001b[0m\u001b[0;34m\u001b[0m\u001b[0m\n\u001b[0m\u001b[1;32m    842\u001b[0m \u001b[0;34m\u001b[0m\u001b[0m\n\u001b[1;32m    843\u001b[0m             \u001b[0;31m# multimetric is determined here because in the case of a callable\u001b[0m\u001b[0;34m\u001b[0m\u001b[0;34m\u001b[0m\u001b[0;34m\u001b[0m\u001b[0m\n",
      "\u001b[0;32m/opt/anaconda3/lib/python3.8/site-packages/sklearn/model_selection/_search.py\u001b[0m in \u001b[0;36m_run_search\u001b[0;34m(self, evaluate_candidates)\u001b[0m\n\u001b[1;32m   1617\u001b[0m     \u001b[0;32mdef\u001b[0m \u001b[0m_run_search\u001b[0m\u001b[0;34m(\u001b[0m\u001b[0mself\u001b[0m\u001b[0;34m,\u001b[0m \u001b[0mevaluate_candidates\u001b[0m\u001b[0;34m)\u001b[0m\u001b[0;34m:\u001b[0m\u001b[0;34m\u001b[0m\u001b[0;34m\u001b[0m\u001b[0m\n\u001b[1;32m   1618\u001b[0m         \u001b[0;34m\"\"\"Search n_iter candidates from param_distributions\"\"\"\u001b[0m\u001b[0;34m\u001b[0m\u001b[0;34m\u001b[0m\u001b[0m\n\u001b[0;32m-> 1619\u001b[0;31m         evaluate_candidates(ParameterSampler(\n\u001b[0m\u001b[1;32m   1620\u001b[0m             \u001b[0mself\u001b[0m\u001b[0;34m.\u001b[0m\u001b[0mparam_distributions\u001b[0m\u001b[0;34m,\u001b[0m \u001b[0mself\u001b[0m\u001b[0;34m.\u001b[0m\u001b[0mn_iter\u001b[0m\u001b[0;34m,\u001b[0m\u001b[0;34m\u001b[0m\u001b[0;34m\u001b[0m\u001b[0m\n\u001b[1;32m   1621\u001b[0m             random_state=self.random_state))\n",
      "\u001b[0;32m/opt/anaconda3/lib/python3.8/site-packages/sklearn/model_selection/_search.py\u001b[0m in \u001b[0;36mevaluate_candidates\u001b[0;34m(candidate_params, cv, more_results)\u001b[0m\n\u001b[1;32m    793\u001b[0m                               n_splits, n_candidates, n_candidates * n_splits))\n\u001b[1;32m    794\u001b[0m \u001b[0;34m\u001b[0m\u001b[0m\n\u001b[0;32m--> 795\u001b[0;31m                 out = parallel(delayed(_fit_and_score)(clone(base_estimator),\n\u001b[0m\u001b[1;32m    796\u001b[0m                                                        \u001b[0mX\u001b[0m\u001b[0;34m,\u001b[0m \u001b[0my\u001b[0m\u001b[0;34m,\u001b[0m\u001b[0;34m\u001b[0m\u001b[0;34m\u001b[0m\u001b[0m\n\u001b[1;32m    797\u001b[0m                                                        \u001b[0mtrain\u001b[0m\u001b[0;34m=\u001b[0m\u001b[0mtrain\u001b[0m\u001b[0;34m,\u001b[0m \u001b[0mtest\u001b[0m\u001b[0;34m=\u001b[0m\u001b[0mtest\u001b[0m\u001b[0;34m,\u001b[0m\u001b[0;34m\u001b[0m\u001b[0;34m\u001b[0m\u001b[0m\n",
      "\u001b[0;32m/opt/anaconda3/lib/python3.8/site-packages/joblib/parallel.py\u001b[0m in \u001b[0;36m__call__\u001b[0;34m(self, iterable)\u001b[0m\n\u001b[1;32m   1039\u001b[0m             \u001b[0;31m# remaining jobs.\u001b[0m\u001b[0;34m\u001b[0m\u001b[0;34m\u001b[0m\u001b[0;34m\u001b[0m\u001b[0m\n\u001b[1;32m   1040\u001b[0m             \u001b[0mself\u001b[0m\u001b[0;34m.\u001b[0m\u001b[0m_iterating\u001b[0m \u001b[0;34m=\u001b[0m \u001b[0;32mFalse\u001b[0m\u001b[0;34m\u001b[0m\u001b[0;34m\u001b[0m\u001b[0m\n\u001b[0;32m-> 1041\u001b[0;31m             \u001b[0;32mif\u001b[0m \u001b[0mself\u001b[0m\u001b[0;34m.\u001b[0m\u001b[0mdispatch_one_batch\u001b[0m\u001b[0;34m(\u001b[0m\u001b[0miterator\u001b[0m\u001b[0;34m)\u001b[0m\u001b[0;34m:\u001b[0m\u001b[0;34m\u001b[0m\u001b[0;34m\u001b[0m\u001b[0m\n\u001b[0m\u001b[1;32m   1042\u001b[0m                 \u001b[0mself\u001b[0m\u001b[0;34m.\u001b[0m\u001b[0m_iterating\u001b[0m \u001b[0;34m=\u001b[0m \u001b[0mself\u001b[0m\u001b[0;34m.\u001b[0m\u001b[0m_original_iterator\u001b[0m \u001b[0;32mis\u001b[0m \u001b[0;32mnot\u001b[0m \u001b[0;32mNone\u001b[0m\u001b[0;34m\u001b[0m\u001b[0;34m\u001b[0m\u001b[0m\n\u001b[1;32m   1043\u001b[0m \u001b[0;34m\u001b[0m\u001b[0m\n",
      "\u001b[0;32m/opt/anaconda3/lib/python3.8/site-packages/joblib/parallel.py\u001b[0m in \u001b[0;36mdispatch_one_batch\u001b[0;34m(self, iterator)\u001b[0m\n\u001b[1;32m    857\u001b[0m                 \u001b[0;32mreturn\u001b[0m \u001b[0;32mFalse\u001b[0m\u001b[0;34m\u001b[0m\u001b[0;34m\u001b[0m\u001b[0m\n\u001b[1;32m    858\u001b[0m             \u001b[0;32melse\u001b[0m\u001b[0;34m:\u001b[0m\u001b[0;34m\u001b[0m\u001b[0;34m\u001b[0m\u001b[0m\n\u001b[0;32m--> 859\u001b[0;31m                 \u001b[0mself\u001b[0m\u001b[0;34m.\u001b[0m\u001b[0m_dispatch\u001b[0m\u001b[0;34m(\u001b[0m\u001b[0mtasks\u001b[0m\u001b[0;34m)\u001b[0m\u001b[0;34m\u001b[0m\u001b[0;34m\u001b[0m\u001b[0m\n\u001b[0m\u001b[1;32m    860\u001b[0m                 \u001b[0;32mreturn\u001b[0m \u001b[0;32mTrue\u001b[0m\u001b[0;34m\u001b[0m\u001b[0;34m\u001b[0m\u001b[0m\n\u001b[1;32m    861\u001b[0m \u001b[0;34m\u001b[0m\u001b[0m\n",
      "\u001b[0;32m/opt/anaconda3/lib/python3.8/site-packages/joblib/parallel.py\u001b[0m in \u001b[0;36m_dispatch\u001b[0;34m(self, batch)\u001b[0m\n\u001b[1;32m    775\u001b[0m         \u001b[0;32mwith\u001b[0m \u001b[0mself\u001b[0m\u001b[0;34m.\u001b[0m\u001b[0m_lock\u001b[0m\u001b[0;34m:\u001b[0m\u001b[0;34m\u001b[0m\u001b[0;34m\u001b[0m\u001b[0m\n\u001b[1;32m    776\u001b[0m             \u001b[0mjob_idx\u001b[0m \u001b[0;34m=\u001b[0m \u001b[0mlen\u001b[0m\u001b[0;34m(\u001b[0m\u001b[0mself\u001b[0m\u001b[0;34m.\u001b[0m\u001b[0m_jobs\u001b[0m\u001b[0;34m)\u001b[0m\u001b[0;34m\u001b[0m\u001b[0;34m\u001b[0m\u001b[0m\n\u001b[0;32m--> 777\u001b[0;31m             \u001b[0mjob\u001b[0m \u001b[0;34m=\u001b[0m \u001b[0mself\u001b[0m\u001b[0;34m.\u001b[0m\u001b[0m_backend\u001b[0m\u001b[0;34m.\u001b[0m\u001b[0mapply_async\u001b[0m\u001b[0;34m(\u001b[0m\u001b[0mbatch\u001b[0m\u001b[0;34m,\u001b[0m \u001b[0mcallback\u001b[0m\u001b[0;34m=\u001b[0m\u001b[0mcb\u001b[0m\u001b[0;34m)\u001b[0m\u001b[0;34m\u001b[0m\u001b[0;34m\u001b[0m\u001b[0m\n\u001b[0m\u001b[1;32m    778\u001b[0m             \u001b[0;31m# A job can complete so quickly than its callback is\u001b[0m\u001b[0;34m\u001b[0m\u001b[0;34m\u001b[0m\u001b[0;34m\u001b[0m\u001b[0m\n\u001b[1;32m    779\u001b[0m             \u001b[0;31m# called before we get here, causing self._jobs to\u001b[0m\u001b[0;34m\u001b[0m\u001b[0;34m\u001b[0m\u001b[0;34m\u001b[0m\u001b[0m\n",
      "\u001b[0;32m/opt/anaconda3/lib/python3.8/site-packages/joblib/_parallel_backends.py\u001b[0m in \u001b[0;36mapply_async\u001b[0;34m(self, func, callback)\u001b[0m\n\u001b[1;32m    206\u001b[0m     \u001b[0;32mdef\u001b[0m \u001b[0mapply_async\u001b[0m\u001b[0;34m(\u001b[0m\u001b[0mself\u001b[0m\u001b[0;34m,\u001b[0m \u001b[0mfunc\u001b[0m\u001b[0;34m,\u001b[0m \u001b[0mcallback\u001b[0m\u001b[0;34m=\u001b[0m\u001b[0;32mNone\u001b[0m\u001b[0;34m)\u001b[0m\u001b[0;34m:\u001b[0m\u001b[0;34m\u001b[0m\u001b[0;34m\u001b[0m\u001b[0m\n\u001b[1;32m    207\u001b[0m         \u001b[0;34m\"\"\"Schedule a func to be run\"\"\"\u001b[0m\u001b[0;34m\u001b[0m\u001b[0;34m\u001b[0m\u001b[0m\n\u001b[0;32m--> 208\u001b[0;31m         \u001b[0mresult\u001b[0m \u001b[0;34m=\u001b[0m \u001b[0mImmediateResult\u001b[0m\u001b[0;34m(\u001b[0m\u001b[0mfunc\u001b[0m\u001b[0;34m)\u001b[0m\u001b[0;34m\u001b[0m\u001b[0;34m\u001b[0m\u001b[0m\n\u001b[0m\u001b[1;32m    209\u001b[0m         \u001b[0;32mif\u001b[0m \u001b[0mcallback\u001b[0m\u001b[0;34m:\u001b[0m\u001b[0;34m\u001b[0m\u001b[0;34m\u001b[0m\u001b[0m\n\u001b[1;32m    210\u001b[0m             \u001b[0mcallback\u001b[0m\u001b[0;34m(\u001b[0m\u001b[0mresult\u001b[0m\u001b[0;34m)\u001b[0m\u001b[0;34m\u001b[0m\u001b[0;34m\u001b[0m\u001b[0m\n",
      "\u001b[0;32m/opt/anaconda3/lib/python3.8/site-packages/joblib/_parallel_backends.py\u001b[0m in \u001b[0;36m__init__\u001b[0;34m(self, batch)\u001b[0m\n\u001b[1;32m    570\u001b[0m         \u001b[0;31m# Don't delay the application, to avoid keeping the input\u001b[0m\u001b[0;34m\u001b[0m\u001b[0;34m\u001b[0m\u001b[0;34m\u001b[0m\u001b[0m\n\u001b[1;32m    571\u001b[0m         \u001b[0;31m# arguments in memory\u001b[0m\u001b[0;34m\u001b[0m\u001b[0;34m\u001b[0m\u001b[0;34m\u001b[0m\u001b[0m\n\u001b[0;32m--> 572\u001b[0;31m         \u001b[0mself\u001b[0m\u001b[0;34m.\u001b[0m\u001b[0mresults\u001b[0m \u001b[0;34m=\u001b[0m \u001b[0mbatch\u001b[0m\u001b[0;34m(\u001b[0m\u001b[0;34m)\u001b[0m\u001b[0;34m\u001b[0m\u001b[0;34m\u001b[0m\u001b[0m\n\u001b[0m\u001b[1;32m    573\u001b[0m \u001b[0;34m\u001b[0m\u001b[0m\n\u001b[1;32m    574\u001b[0m     \u001b[0;32mdef\u001b[0m \u001b[0mget\u001b[0m\u001b[0;34m(\u001b[0m\u001b[0mself\u001b[0m\u001b[0;34m)\u001b[0m\u001b[0;34m:\u001b[0m\u001b[0;34m\u001b[0m\u001b[0;34m\u001b[0m\u001b[0m\n",
      "\u001b[0;32m/opt/anaconda3/lib/python3.8/site-packages/joblib/parallel.py\u001b[0m in \u001b[0;36m__call__\u001b[0;34m(self)\u001b[0m\n\u001b[1;32m    260\u001b[0m         \u001b[0;31m# change the default number of processes to -1\u001b[0m\u001b[0;34m\u001b[0m\u001b[0;34m\u001b[0m\u001b[0;34m\u001b[0m\u001b[0m\n\u001b[1;32m    261\u001b[0m         \u001b[0;32mwith\u001b[0m \u001b[0mparallel_backend\u001b[0m\u001b[0;34m(\u001b[0m\u001b[0mself\u001b[0m\u001b[0;34m.\u001b[0m\u001b[0m_backend\u001b[0m\u001b[0;34m,\u001b[0m \u001b[0mn_jobs\u001b[0m\u001b[0;34m=\u001b[0m\u001b[0mself\u001b[0m\u001b[0;34m.\u001b[0m\u001b[0m_n_jobs\u001b[0m\u001b[0;34m)\u001b[0m\u001b[0;34m:\u001b[0m\u001b[0;34m\u001b[0m\u001b[0;34m\u001b[0m\u001b[0m\n\u001b[0;32m--> 262\u001b[0;31m             return [func(*args, **kwargs)\n\u001b[0m\u001b[1;32m    263\u001b[0m                     for func, args, kwargs in self.items]\n\u001b[1;32m    264\u001b[0m \u001b[0;34m\u001b[0m\u001b[0m\n",
      "\u001b[0;32m/opt/anaconda3/lib/python3.8/site-packages/joblib/parallel.py\u001b[0m in \u001b[0;36m<listcomp>\u001b[0;34m(.0)\u001b[0m\n\u001b[1;32m    260\u001b[0m         \u001b[0;31m# change the default number of processes to -1\u001b[0m\u001b[0;34m\u001b[0m\u001b[0;34m\u001b[0m\u001b[0;34m\u001b[0m\u001b[0m\n\u001b[1;32m    261\u001b[0m         \u001b[0;32mwith\u001b[0m \u001b[0mparallel_backend\u001b[0m\u001b[0;34m(\u001b[0m\u001b[0mself\u001b[0m\u001b[0;34m.\u001b[0m\u001b[0m_backend\u001b[0m\u001b[0;34m,\u001b[0m \u001b[0mn_jobs\u001b[0m\u001b[0;34m=\u001b[0m\u001b[0mself\u001b[0m\u001b[0;34m.\u001b[0m\u001b[0m_n_jobs\u001b[0m\u001b[0;34m)\u001b[0m\u001b[0;34m:\u001b[0m\u001b[0;34m\u001b[0m\u001b[0;34m\u001b[0m\u001b[0m\n\u001b[0;32m--> 262\u001b[0;31m             return [func(*args, **kwargs)\n\u001b[0m\u001b[1;32m    263\u001b[0m                     for func, args, kwargs in self.items]\n\u001b[1;32m    264\u001b[0m \u001b[0;34m\u001b[0m\u001b[0m\n",
      "\u001b[0;32m/opt/anaconda3/lib/python3.8/site-packages/sklearn/utils/fixes.py\u001b[0m in \u001b[0;36m__call__\u001b[0;34m(self, *args, **kwargs)\u001b[0m\n\u001b[1;32m    220\u001b[0m     \u001b[0;32mdef\u001b[0m \u001b[0m__call__\u001b[0m\u001b[0;34m(\u001b[0m\u001b[0mself\u001b[0m\u001b[0;34m,\u001b[0m \u001b[0;34m*\u001b[0m\u001b[0margs\u001b[0m\u001b[0;34m,\u001b[0m \u001b[0;34m**\u001b[0m\u001b[0mkwargs\u001b[0m\u001b[0;34m)\u001b[0m\u001b[0;34m:\u001b[0m\u001b[0;34m\u001b[0m\u001b[0;34m\u001b[0m\u001b[0m\n\u001b[1;32m    221\u001b[0m         \u001b[0;32mwith\u001b[0m \u001b[0mconfig_context\u001b[0m\u001b[0;34m(\u001b[0m\u001b[0;34m**\u001b[0m\u001b[0mself\u001b[0m\u001b[0;34m.\u001b[0m\u001b[0mconfig\u001b[0m\u001b[0;34m)\u001b[0m\u001b[0;34m:\u001b[0m\u001b[0;34m\u001b[0m\u001b[0;34m\u001b[0m\u001b[0m\n\u001b[0;32m--> 222\u001b[0;31m             \u001b[0;32mreturn\u001b[0m \u001b[0mself\u001b[0m\u001b[0;34m.\u001b[0m\u001b[0mfunction\u001b[0m\u001b[0;34m(\u001b[0m\u001b[0;34m*\u001b[0m\u001b[0margs\u001b[0m\u001b[0;34m,\u001b[0m \u001b[0;34m**\u001b[0m\u001b[0mkwargs\u001b[0m\u001b[0;34m)\u001b[0m\u001b[0;34m\u001b[0m\u001b[0;34m\u001b[0m\u001b[0m\n\u001b[0m",
      "\u001b[0;32m/opt/anaconda3/lib/python3.8/site-packages/sklearn/model_selection/_validation.py\u001b[0m in \u001b[0;36m_fit_and_score\u001b[0;34m(estimator, X, y, scorer, train, test, verbose, parameters, fit_params, return_train_score, return_parameters, return_n_test_samples, return_times, return_estimator, split_progress, candidate_progress, error_score)\u001b[0m\n\u001b[1;32m    579\u001b[0m             \u001b[0mcloned_parameters\u001b[0m\u001b[0;34m[\u001b[0m\u001b[0mk\u001b[0m\u001b[0;34m]\u001b[0m \u001b[0;34m=\u001b[0m \u001b[0mclone\u001b[0m\u001b[0;34m(\u001b[0m\u001b[0mv\u001b[0m\u001b[0;34m,\u001b[0m \u001b[0msafe\u001b[0m\u001b[0;34m=\u001b[0m\u001b[0;32mFalse\u001b[0m\u001b[0;34m)\u001b[0m\u001b[0;34m\u001b[0m\u001b[0;34m\u001b[0m\u001b[0m\n\u001b[1;32m    580\u001b[0m \u001b[0;34m\u001b[0m\u001b[0m\n\u001b[0;32m--> 581\u001b[0;31m         \u001b[0mestimator\u001b[0m \u001b[0;34m=\u001b[0m \u001b[0mestimator\u001b[0m\u001b[0;34m.\u001b[0m\u001b[0mset_params\u001b[0m\u001b[0;34m(\u001b[0m\u001b[0;34m**\u001b[0m\u001b[0mcloned_parameters\u001b[0m\u001b[0;34m)\u001b[0m\u001b[0;34m\u001b[0m\u001b[0;34m\u001b[0m\u001b[0m\n\u001b[0m\u001b[1;32m    582\u001b[0m \u001b[0;34m\u001b[0m\u001b[0m\n\u001b[1;32m    583\u001b[0m     \u001b[0mstart_time\u001b[0m \u001b[0;34m=\u001b[0m \u001b[0mtime\u001b[0m\u001b[0;34m.\u001b[0m\u001b[0mtime\u001b[0m\u001b[0;34m(\u001b[0m\u001b[0;34m)\u001b[0m\u001b[0;34m\u001b[0m\u001b[0;34m\u001b[0m\u001b[0m\n",
      "\u001b[0;32m/opt/anaconda3/lib/python3.8/site-packages/sklearn/pipeline.py\u001b[0m in \u001b[0;36mset_params\u001b[0;34m(self, **kwargs)\u001b[0m\n\u001b[1;32m    148\u001b[0m         \u001b[0mself\u001b[0m\u001b[0;34m\u001b[0m\u001b[0;34m\u001b[0m\u001b[0m\n\u001b[1;32m    149\u001b[0m         \"\"\"\n\u001b[0;32m--> 150\u001b[0;31m         \u001b[0mself\u001b[0m\u001b[0;34m.\u001b[0m\u001b[0m_set_params\u001b[0m\u001b[0;34m(\u001b[0m\u001b[0;34m'steps'\u001b[0m\u001b[0;34m,\u001b[0m \u001b[0;34m**\u001b[0m\u001b[0mkwargs\u001b[0m\u001b[0;34m)\u001b[0m\u001b[0;34m\u001b[0m\u001b[0;34m\u001b[0m\u001b[0m\n\u001b[0m\u001b[1;32m    151\u001b[0m         \u001b[0;32mreturn\u001b[0m \u001b[0mself\u001b[0m\u001b[0;34m\u001b[0m\u001b[0;34m\u001b[0m\u001b[0m\n\u001b[1;32m    152\u001b[0m \u001b[0;34m\u001b[0m\u001b[0m\n",
      "\u001b[0;32m/opt/anaconda3/lib/python3.8/site-packages/sklearn/utils/metaestimators.py\u001b[0m in \u001b[0;36m_set_params\u001b[0;34m(self, attr, **params)\u001b[0m\n\u001b[1;32m     52\u001b[0m                 \u001b[0mself\u001b[0m\u001b[0;34m.\u001b[0m\u001b[0m_replace_estimator\u001b[0m\u001b[0;34m(\u001b[0m\u001b[0mattr\u001b[0m\u001b[0;34m,\u001b[0m \u001b[0mname\u001b[0m\u001b[0;34m,\u001b[0m \u001b[0mparams\u001b[0m\u001b[0;34m.\u001b[0m\u001b[0mpop\u001b[0m\u001b[0;34m(\u001b[0m\u001b[0mname\u001b[0m\u001b[0;34m)\u001b[0m\u001b[0;34m)\u001b[0m\u001b[0;34m\u001b[0m\u001b[0;34m\u001b[0m\u001b[0m\n\u001b[1;32m     53\u001b[0m         \u001b[0;31m# 3. Step parameters and other initialisation arguments\u001b[0m\u001b[0;34m\u001b[0m\u001b[0;34m\u001b[0m\u001b[0;34m\u001b[0m\u001b[0m\n\u001b[0;32m---> 54\u001b[0;31m         \u001b[0msuper\u001b[0m\u001b[0;34m(\u001b[0m\u001b[0;34m)\u001b[0m\u001b[0;34m.\u001b[0m\u001b[0mset_params\u001b[0m\u001b[0;34m(\u001b[0m\u001b[0;34m**\u001b[0m\u001b[0mparams\u001b[0m\u001b[0;34m)\u001b[0m\u001b[0;34m\u001b[0m\u001b[0;34m\u001b[0m\u001b[0m\n\u001b[0m\u001b[1;32m     55\u001b[0m         \u001b[0;32mreturn\u001b[0m \u001b[0mself\u001b[0m\u001b[0;34m\u001b[0m\u001b[0;34m\u001b[0m\u001b[0m\n\u001b[1;32m     56\u001b[0m \u001b[0;34m\u001b[0m\u001b[0m\n",
      "\u001b[0;32m/opt/anaconda3/lib/python3.8/site-packages/sklearn/base.py\u001b[0m in \u001b[0;36mset_params\u001b[0;34m(self, **params)\u001b[0m\n\u001b[1;32m    228\u001b[0m             \u001b[0mkey\u001b[0m\u001b[0;34m,\u001b[0m \u001b[0mdelim\u001b[0m\u001b[0;34m,\u001b[0m \u001b[0msub_key\u001b[0m \u001b[0;34m=\u001b[0m \u001b[0mkey\u001b[0m\u001b[0;34m.\u001b[0m\u001b[0mpartition\u001b[0m\u001b[0;34m(\u001b[0m\u001b[0;34m'__'\u001b[0m\u001b[0;34m)\u001b[0m\u001b[0;34m\u001b[0m\u001b[0;34m\u001b[0m\u001b[0m\n\u001b[1;32m    229\u001b[0m             \u001b[0;32mif\u001b[0m \u001b[0mkey\u001b[0m \u001b[0;32mnot\u001b[0m \u001b[0;32min\u001b[0m \u001b[0mvalid_params\u001b[0m\u001b[0;34m:\u001b[0m\u001b[0;34m\u001b[0m\u001b[0;34m\u001b[0m\u001b[0m\n\u001b[0;32m--> 230\u001b[0;31m                 raise ValueError('Invalid parameter %s for estimator %s. '\n\u001b[0m\u001b[1;32m    231\u001b[0m                                  \u001b[0;34m'Check the list of available parameters '\u001b[0m\u001b[0;34m\u001b[0m\u001b[0;34m\u001b[0m\u001b[0m\n\u001b[1;32m    232\u001b[0m                                  \u001b[0;34m'with `estimator.get_params().keys()`.'\u001b[0m \u001b[0;34m%\u001b[0m\u001b[0;34m\u001b[0m\u001b[0;34m\u001b[0m\u001b[0m\n",
      "\u001b[0;31mValueError\u001b[0m: Invalid parameter weights for estimator Pipeline(steps=[('prep',\n                 ColumnTransformer(remainder='passthrough',\n                                   transformers=[('scaler', StandardScaler(),\n                                                  Index(['Year', 'Season', 'Month', 'Date', 'Day', 'Place', 'Floor', 'City',\n       'County', 'State', 'RepBall', 'RepFlag', 'RepTree', 'Trials', 'World',\n       'RemBall', 'RemFlag', 'RemTree', 'Watch', 'Pencil', 'NoIfs', 'HandPap',\n       'FoldPap', 'OnFloor', 'Eyes', 'Sent', 'Pentgon', 'MMSETot', 'Hand',\n       'Gender', 'Educ', 'age'],\n      dtype='object'))])),\n                ('m', KNeighborsClassifier(n_neighbors=50, p=1))]). Check the list of available parameters with `estimator.get_params().keys()`."
     ]
    }
   ],
   "source": [
    "\n",
    "knn = KNeighborsClassifier()\n",
    "# define the parameter values that should be searched\n",
    "k_range = list(range(1, 1000, 25))\n",
    "# create a parameter grid: map the parameter names to the values that should be searched\n",
    "weight_options = ['uniform', 'distance']\n",
    "#Power parameter for the Minkowski metric. When p = 1, this is equivalent to using manhattan_distance (l1), \n",
    "#and euclidean_distance (l2) for p = 2. For arbitrary p, minkowski_distance (l_p) is used.\n",
    "ps=[1,2]\n",
    "param_grid = dict(n_neighbors=k_range, weights=weight_options, p=ps)\n",
    "#the higher we set beta to, the more the model will weigh recall over precision-\n",
    "ftwo_scorer = make_scorer(fbeta_score, beta=2)\n",
    "# instantiate the grid\n",
    "knn_grid = RandomizedSearchCV(knn, param_grid, cv=5, scoring=ftwo_scorer, n_jobs=1)\n",
    "#fit model\n",
    "knn_grid.fit(scaler.fit_transform(X_train), y_train)\n",
    "# view the complete results if desired\n",
    "knn_grid.cv_results_\n",
    "\n",
    "# examine the best model\n",
    "print(\"Best params: \", knn_grid.best_params_)\n",
    "print(\"Best estimator: \", knn_grid.best_estimator_)\n",
    "print(\"Best score: \", knn_grid.best_score_)\n",
    "\n",
    "\n",
    "fbeta_score(y_val,knn_grid.predict(scaler.transform(X_val)), beta=2)\n"
   ]
  },
  {
   "cell_type": "markdown",
   "metadata": {},
   "source": [
    "# logreg tuning"
   ]
  },
  {
   "cell_type": "code",
   "execution_count": 502,
   "metadata": {},
   "outputs": [
    {
     "name": "stdout",
     "output_type": "stream",
     "text": [
      "Best params:  {'solver': 'lbfgs', 'C': 0.01}\n",
      "Best estimator:  LogisticRegression(C=0.01, max_iter=5000)\n",
      "Best score:  0.8754973697623012\n",
      "0.8653550568705811\n"
     ]
    }
   ],
   "source": [
    "# grid search \n",
    "logit =  LogisticRegression(max_iter=5000)#,class_weight={0:2, 1:1})\n",
    "\n",
    "#Inverse of regularization strength get warning below if above 1\n",
    "### ConvergenceWarning: lbfgs failed to converge (status=1):STOP: TOTAL NO. of ITERATIONS REACHED LIMIT.\n",
    "Cs=[0.01,0.1,1,10,100,1000,10000,100000,1000000]\n",
    "\n",
    "#solver\n",
    "solve=['lbfgs', 'liblinear']\n",
    "\n",
    "\n",
    "param_grid = dict(C=Cs, solver=solve)\n",
    "# instantiate the grid\n",
    "log_grid = RandomizedSearchCV(logit, param_grid, cv=5, scoring=ftwo_scorer)\n",
    "#fbeta wiegh for recall\n",
    "#fit model\n",
    "log_grid.fit(scaler.fit_transform(X_train), y_train);\n",
    "# view the complete results\n",
    "log_grid.cv_results_\n",
    "\n",
    "# examine the best model\n",
    "print(\"Best params: \", log_grid.best_params_)\n",
    "print(\"Best estimator: \", log_grid.best_estimator_)\n",
    "print(\"Best score: \", log_grid.best_score_)\n",
    "print(fbeta_score(y_val,log_grid.predict(scaler.transform(X_val)), beta=2))\n",
    "\n",
    "\n",
    "\n",
    "#look at what features are highly influencial-lower log loss\n",
    "alist=[]\n",
    "for col in X_train.columns:\n",
    "    X_tr = X_train[[col]]\n",
    "    X_te = X_test[[col]]\n",
    "    lr_model = LogisticRegression(C=.01,solver='lbfgs')\n",
    "    lr_model.fit(scaler.fit_transform(X_tr),y_train)\n",
    "    y_prob_pred_test = lr_model.predict_proba(scaler.transform(X_te))[:,1]\n",
    "    alist.append(log_loss(y_test,y_prob_pred_test))\n",
    "    \n",
    "adf = pd.DataFrame(alist, columns=[\"logloss\"])\n",
    "#tried model with the features below-didn't really perform better\n",
    "#adf[adf['logloss']<.5]\n",
    "\n",
    "\n",
    "\n"
   ]
  },
  {
   "cell_type": "code",
   "execution_count": null,
   "metadata": {},
   "outputs": [],
   "source": [
    "master_df.iloc[:,:-1]"
   ]
  },
  {
   "cell_type": "markdown",
   "metadata": {},
   "source": [
    "# Random forest tuning "
   ]
  },
  {
   "cell_type": "code",
   "execution_count": 32,
   "metadata": {},
   "outputs": [
    {
     "name": "stdout",
     "output_type": "stream",
     "text": [
      "Best params:  {'n_estimators': 350, 'max_features': 'auto', 'max_depth': None, 'bootstrap': True}\n",
      "Best estimator:  RandomForestClassifier(n_estimators=350)\n",
      "Best score:  0.8829329653344742\n",
      "Base training: 1.000\n",
      "Base training: 0.866\n",
      "Training:  1.000\n",
      "Test set:  0.874\n"
     ]
    },
    {
     "ename": "AttributeError",
     "evalue": "'RandomizedSearchCV' object has no attribute 'feature_importances_'",
     "output_type": "error",
     "traceback": [
      "\u001b[0;31m---------------------------------------------------------------------------\u001b[0m",
      "\u001b[0;31mAttributeError\u001b[0m                            Traceback (most recent call last)",
      "\u001b[0;32m<ipython-input-32-3c218f9ca636>\u001b[0m in \u001b[0;36m<module>\u001b[0;34m\u001b[0m\n\u001b[1;32m     33\u001b[0m \u001b[0;34m\u001b[0m\u001b[0m\n\u001b[1;32m     34\u001b[0m \u001b[0;34m\u001b[0m\u001b[0m\n\u001b[0;32m---> 35\u001b[0;31m \u001b[0mimportances\u001b[0m\u001b[0;34m=\u001b[0m\u001b[0mforest_grid\u001b[0m\u001b[0;34m.\u001b[0m\u001b[0mfeature_importances_\u001b[0m\u001b[0;34m\u001b[0m\u001b[0;34m\u001b[0m\u001b[0m\n\u001b[0m\u001b[1;32m     36\u001b[0m \u001b[0mfeature_names\u001b[0m \u001b[0;34m=\u001b[0m \u001b[0;34m[\u001b[0m\u001b[0;34mf\"feature {i}\"\u001b[0m \u001b[0;32mfor\u001b[0m \u001b[0mi\u001b[0m \u001b[0;32min\u001b[0m \u001b[0mrange\u001b[0m\u001b[0;34m(\u001b[0m\u001b[0mX_train\u001b[0m\u001b[0;34m.\u001b[0m\u001b[0mshape\u001b[0m\u001b[0;34m[\u001b[0m\u001b[0;36m1\u001b[0m\u001b[0;34m]\u001b[0m\u001b[0;34m)\u001b[0m\u001b[0;34m]\u001b[0m\u001b[0;34m\u001b[0m\u001b[0;34m\u001b[0m\u001b[0m\n\u001b[1;32m     37\u001b[0m \u001b[0mstd\u001b[0m \u001b[0;34m=\u001b[0m \u001b[0mnp\u001b[0m\u001b[0;34m.\u001b[0m\u001b[0mstd\u001b[0m\u001b[0;34m(\u001b[0m\u001b[0;34m[\u001b[0m\u001b[0mtree\u001b[0m\u001b[0;34m.\u001b[0m\u001b[0mfeature_importances_\u001b[0m \u001b[0;32mfor\u001b[0m \u001b[0mtree\u001b[0m \u001b[0;32min\u001b[0m \u001b[0mforest_grid\u001b[0m\u001b[0;34m.\u001b[0m\u001b[0mestimators_\u001b[0m\u001b[0;34m]\u001b[0m\u001b[0;34m,\u001b[0m \u001b[0maxis\u001b[0m\u001b[0;34m=\u001b[0m\u001b[0;36m0\u001b[0m\u001b[0;34m)\u001b[0m\u001b[0;34m\u001b[0m\u001b[0;34m\u001b[0m\u001b[0m\n",
      "\u001b[0;31mAttributeError\u001b[0m: 'RandomizedSearchCV' object has no attribute 'feature_importances_'"
     ]
    }
   ],
   "source": [
    "\n",
    "randomforest = RandomForestClassifier()\n",
    "#n_estimators\n",
    "#estimators=list(range(100,1010, 100))\n",
    "#max_depth\n",
    "#depth=list(range(1,20,10))\n",
    "#min_samples_split\n",
    "#min_samp_split=list(range(2,50,10))\n",
    "#min_samples_leaf\n",
    "#min_samp_leaf=list(range(2,50,10))\n",
    "\n",
    "param_grid = {'bootstrap': [True], \n",
    "              'max_depth': [5, 10, None],\n",
    "              'max_features': ['auto', 'log2'],\n",
    "              'n_estimators': list(range(50,500,100))}\n",
    "\n",
    "# instantiate the grid\n",
    "forest_grid = RandomizedSearchCV(randomforest, param_grid, cv=5, scoring=ftwo_scorer)\n",
    "forest_grid.fit(X_train,y_train)\n",
    "\n",
    "\n",
    "\n",
    "\n",
    "print(\"Best params: \", forest_grid.best_params_)\n",
    "print(\"Best estimator: \", forest_grid.best_estimator_)\n",
    "print(\"Best score: \", forest_grid.best_score_)\n",
    "\n",
    "print(\"Base training: 1.000\")\n",
    "print(\"Base training: 0.866\")\n",
    "\n",
    "print(\"Training: {:6.3f}\".format(fbeta_score(y_train,forest_grid.predict(X_train), beta=2)))\n",
    "print(\"Test set: {:6.3f}\".format(fbeta_score(y_val,forest_grid.predict(X_val), beta=2)))\n",
    "\n",
    "\n",
    "\n",
    "importances=forest_grid.feature_importances_\n",
    "feature_names = [f\"feature {i}\" for i in range(X_train.shape[1])]\n",
    "std = np.std([tree.feature_importances_ for tree in forest_grid.estimators_], axis=0)\n",
    "\n",
    "\n",
    "\n",
    "forest_importances = pd.Series(importances, index=feature_names)\n",
    "\n",
    "\n",
    "plt.subplots()\n",
    "\n",
    "\n",
    "forest_importances.plot.bar(yerr=std, figsize=(10,10))\n",
    "\n"
   ]
  },
  {
   "cell_type": "markdown",
   "metadata": {},
   "source": [
    "## Tuning XGB using randomized search CV"
   ]
  },
  {
   "cell_type": "code",
   "execution_count": 33,
   "metadata": {},
   "outputs": [
    {
     "name": "stdout",
     "output_type": "stream",
     "text": [
      "Fitting 5 folds for each of 5 candidates, totalling 25 fits\n",
      "Training:  0.868\n",
      "Validation:  0.829\n"
     ]
    },
    {
     "data": {
      "image/png": "[encoded data removed]",
      "text/plain": [
       "<Figure size 432x288 with 1 Axes>"
      ]
     },
     "metadata": {
      "needs_background": "light"
     },
     "output_type": "display_data"
    },
    {
     "data": {
      "image/png": "[encoded data removed]",
      "text/plain": [
       "<Figure size 432x288 with 1 Axes>"
      ]
     },
     "metadata": {
      "needs_background": "light"
     },
     "output_type": "display_data"
    }
   ],
   "source": [
    "X=master_df.iloc[:,:-1]\n",
    "#X=X[['age','Educ','MMSETot','Gender']]\n",
    "y=master_df['Dementia']\n",
    "X_train,X_test,y_train,y_test=train_test_split(X, y, test_size=0.2, random_state=42)\n",
    "#temp val split-will overwrite the train data with above split before cross val\n",
    "X_train, X_val, y_train, y_val = train_test_split(X_train, y_train, \n",
    "                                       test_size=.25,     \n",
    "                                       random_state=42)\n",
    "\n",
    "gbm = xgb.XGBClassifier(\n",
    "    objective= 'binary:logistic',\n",
    "    nthread=-1,\n",
    "    seed=42,\n",
    "    use_label_encoder=False,\n",
    "    eval_metric='logloss',\n",
    "    scale_pos_weight=.5\n",
    ")\n",
    "\n",
    "parameters = {\n",
    "    'max_depth': range (1, 20, 1),\n",
    "    'n_estimators': range(10, 300, 20),\n",
    "    'learning_rate': [0.1, 0.01, 0.05],\n",
    "    'min_child_weight': [1, 5, 10],\n",
    "    'gamma': [0.5, 1, 1.5, 2, 5],\n",
    "    'subsample': [0.6, 0.8],\n",
    "    'colsample_bytree': [0.6, 0.8]}\n",
    "\n",
    "\n",
    "\n",
    "random_search = RandomizedSearchCV(gbm,\n",
    "                                   param_distributions=parameters,\n",
    "                                   n_iter=5, scoring=ftwo_scorer,\n",
    "                                   n_jobs=4, cv=5, \n",
    "                                   verbose=3, random_state=42)\n",
    "\n",
    "#f1\n",
    "\n",
    "random_search.fit(X_train, y_train)\n",
    "\n",
    "print(\"Training: {:6.3f}\".format(fbeta_score(y_train,random_search.predict(X_train), beta=2)))\n",
    "print(\"Validation: {:6.3f}\".format(fbeta_score(y_val,random_search.predict(X_val), beta=2)))\n",
    "\n",
    "\n",
    "\n",
    "gbm_p=xgb.XGBClassifier(**random_search.best_params_, use_label_encoder=False,eval_metric='logloss')\n",
    "gbm_p.fit(X_train,y_train)\n",
    "xgb.plot_importance(gbm_p)\n",
    "plt.savefig('importance.png')\n",
    "xgb.plot_importance(gbm_p, importance_type='gain')\n",
    "plt.savefig('gain_importance.png')\n",
    "\n",
    "\n",
    "\n",
    "#just age, mmsetot,educ, gender \n",
    "#Training:  0.818\n",
    "#Validation:  0.807\n",
    "\n"
   ]
  },
  {
   "cell_type": "code",
   "execution_count": 576,
   "metadata": {},
   "outputs": [
    {
     "data": {
      "text/plain": [
       "0.8221261187389135"
      ]
     },
     "execution_count": 576,
     "metadata": {},
     "output_type": "execute_result"
    }
   ],
   "source": [
    "random_search.best_score_"
   ]
  },
  {
   "cell_type": "code",
   "execution_count": 577,
   "metadata": {},
   "outputs": [
    {
     "data": {
      "text/plain": [
       "0.8682697334030318"
      ]
     },
     "execution_count": 577,
     "metadata": {},
     "output_type": "execute_result"
    }
   ],
   "source": [
    "random_search.score(X_train, y_train)"
   ]
  },
  {
   "cell_type": "code",
   "execution_count": 578,
   "metadata": {},
   "outputs": [],
   "source": [
    "#random_search.cv_results_"
   ]
  },
  {
   "cell_type": "code",
   "execution_count": 579,
   "metadata": {},
   "outputs": [
    {
     "data": {
      "text/plain": [
       "0.8221261187389135"
      ]
     },
     "execution_count": 579,
     "metadata": {},
     "output_type": "execute_result"
    }
   ],
   "source": [
    "cross_val_score(test, X_train, y_train, cv=5, scoring=ftwo_scorer).mean()"
   ]
  },
  {
   "cell_type": "code",
   "execution_count": 555,
   "metadata": {},
   "outputs": [
    {
     "data": {
      "text/plain": [
       "0.8682697334030318"
      ]
     },
     "execution_count": 555,
     "metadata": {},
     "output_type": "execute_result"
    }
   ],
   "source": [
    "fbeta_score(y_train,test.predict(X_train), beta=2)"
   ]
  },
  {
   "cell_type": "code",
   "execution_count": 548,
   "metadata": {},
   "outputs": [
    {
     "data": {
      "text/plain": [
       "0.8682697334030318"
      ]
     },
     "execution_count": 548,
     "metadata": {},
     "output_type": "execute_result"
    }
   ],
   "source": [
    "fbeta_score(y_train,random_search.predict(X_train), beta=2)"
   ]
  },
  {
   "cell_type": "code",
   "execution_count": 547,
   "metadata": {},
   "outputs": [
    {
     "data": {
      "text/plain": [
       "0.9365759151626389"
      ]
     },
     "execution_count": 547,
     "metadata": {},
     "output_type": "execute_result"
    }
   ],
   "source": [
    "fbeta_score(y_train,gbm_p.predict(X_train),beta=2)"
   ]
  },
  {
   "cell_type": "code",
   "execution_count": 551,
   "metadata": {},
   "outputs": [],
   "source": [
    "test=xgb.XGBClassifier(\n",
    "    objective= 'binary:logistic',\n",
    "    nthread=-1,\n",
    "    seed=42,\n",
    "    use_label_encoder=False,\n",
    "    eval_metric='logloss',\n",
    "    scale_pos_weight=.5,\n",
    "    subsample= 0.6,\n",
    "    n_estimators= 210,\n",
    "    min_child_weight= 5,\n",
    "    max_depth= 10,\n",
    "    learning_rate= 0.1,\n",
    "    gamma= 0.5,\n",
    "    colsample_bytree= 0.6)"
   ]
  },
  {
   "cell_type": "code",
   "execution_count": 559,
   "metadata": {},
   "outputs": [
    {
     "data": {
      "text/plain": [
       "XGBClassifier(base_score=0.5, booster='gbtree', colsample_bylevel=1,\n",
       "              colsample_bynode=1, colsample_bytree=0.6, eval_metric='logloss',\n",
       "              gamma=0.5, gpu_id=-1, importance_type='gain',\n",
       "              interaction_constraints='', learning_rate=0.1, max_delta_step=0,\n",
       "              max_depth=10, min_child_weight=5, missing=nan,\n",
       "              monotone_constraints='()', n_estimators=210, n_jobs=4, nthread=-1,\n",
       "              num_parallel_tree=1, random_state=42, reg_alpha=0, reg_lambda=1,\n",
       "              scale_pos_weight=0.5, seed=42, subsample=0.6, tree_method='exact',\n",
       "              use_label_encoder=False, validate_parameters=1, verbosity=None)"
      ]
     },
     "execution_count": 559,
     "metadata": {},
     "output_type": "execute_result"
    }
   ],
   "source": [
    "test#.fit(X_train,y_train)"
   ]
  },
  {
   "cell_type": "code",
   "execution_count": 15,
   "metadata": {},
   "outputs": [
    {
     "data": {
      "text/plain": [
       "0.06000000000000005"
      ]
     },
     "execution_count": 15,
     "metadata": {},
     "output_type": "execute_result"
    }
   ],
   "source": [
    "0.883-0.823\n"
   ]
  },
  {
   "cell_type": "code",
   "execution_count": 19,
   "metadata": {},
   "outputs": [
    {
     "data": {
      "text/plain": [
       "0.016000000000000014"
      ]
     },
     "execution_count": 19,
     "metadata": {},
     "output_type": "execute_result"
    }
   ],
   "source": [
    "0.873-0.857\n",
    "\n",
    "\n",
    "\n",
    "\n"
   ]
  },
  {
   "cell_type": "code",
   "execution_count": null,
   "metadata": {},
   "outputs": [],
   "source": []
  }
 ],
 "metadata": {
  "kernelspec": {
   "display_name": "Python 3",
   "language": "python",
   "name": "python3"
  },
  "language_info": {
   "codemirror_mode": {
    "name": "ipython",
    "version": 3
   },
   "file_extension": ".py",
   "mimetype": "text/x-python",
   "name": "python",
   "nbconvert_exporter": "python",
   "pygments_lexer": "ipython3",
   "version": "3.8.8"
  }
 },
 "nbformat": 4,
 "nbformat_minor": 4
}
